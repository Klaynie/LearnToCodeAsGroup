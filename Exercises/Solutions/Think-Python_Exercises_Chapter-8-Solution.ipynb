{
 "metadata": {
  "language_info": {
   "codemirror_mode": {
    "name": "ipython",
    "version": 3
   },
   "file_extension": ".py",
   "mimetype": "text/x-python",
   "name": "python",
   "nbconvert_exporter": "python",
   "pygments_lexer": "ipython3",
   "version": "3.7.6-final"
  },
  "orig_nbformat": 2,
  "kernelspec": {
   "name": "python_defaultSpec_1598006092712",
   "display_name": "Python 3.7.6 64-bit ('base': conda)"
  }
 },
 "nbformat": 4,
 "nbformat_minor": 2,
 "cells": [
  {
   "cell_type": "markdown",
   "metadata": {},
   "source": [
    "# Exercises - Chapter 8"
   ]
  },
  {
   "cell_type": "markdown",
   "metadata": {},
   "source": [
    "## Exercise 8.1\n",
    "\n",
    "Read the documentation of the string methods at http://docs.python.org/3/library/stdtypes.html#string-methods. You might want to experiment with some of them to make sure you understand how they work. `strip` and `replace` are particularly useful.<br>\n",
    "The documentation uses a syntax that might be confusing. For example, in `find(sub[, start[, end]])`, the brackets indicate optional arguments. So `sub` is required, but `start` is optional, and if you include `start`, then `end` is optional."
   ]
  },
  {
   "cell_type": "markdown",
   "metadata": {},
   "source": [
    "***"
   ]
  },
  {
   "cell_type": "markdown",
   "metadata": {},
   "source": [
    "## Exercise 8.2\n",
    "\n",
    "There is a string method called `count` that is similar to the function in the lesson. Read the documentation of this method and write an invocation that counts the number of a's in `'banana'`"
   ]
  },
  {
   "cell_type": "code",
   "execution_count": 1,
   "metadata": {
    "tags": []
   },
   "outputs": [
    {
     "output_type": "stream",
     "name": "stdout",
     "text": "3\n"
    }
   ],
   "source": [
    "word = 'banana'\n",
    "print(word.count('a'))"
   ]
  },
  {
   "cell_type": "markdown",
   "metadata": {},
   "source": [
    "***"
   ]
  },
  {
   "cell_type": "markdown",
   "metadata": {},
   "source": [
    "## Exercise 8.3\n",
    "\n",
    "A string slice can take a third index that specifies the \"step size\"; that is, the number of spaces between successive characters. A step size of 2 means every other character; 3 means every third, etc."
   ]
  },
  {
   "cell_type": "code",
   "execution_count": 2,
   "metadata": {},
   "outputs": [
    {
     "output_type": "execute_result",
     "data": {
      "text/plain": "'bnn'"
     },
     "metadata": {},
     "execution_count": 2
    }
   ],
   "source": [
    "fruit = 'banana'\n",
    "fruit[0:5:2]"
   ]
  },
  {
   "cell_type": "markdown",
   "metadata": {},
   "source": [
    "A step size of -1 goes through the word backwards, so `string[::-1]` generates a reversed string. Use this idiom to write a one-line version of `is_palindrome` from Exercise 6.3."
   ]
  },
  {
   "cell_type": "code",
   "execution_count": 3,
   "metadata": {
    "tags": []
   },
   "outputs": [
    {
     "output_type": "stream",
     "name": "stdout",
     "text": "False\nTrue\n"
    }
   ],
   "source": [
    "def is_palindrome(word):\n",
    "     return word == word[::-1]\n",
    "\n",
    "print(is_palindrome('banana'))\n",
    "print(is_palindrome('lagerregal'))"
   ]
  },
  {
   "cell_type": "markdown",
   "metadata": {},
   "source": [
    "***"
   ]
  },
  {
   "cell_type": "markdown",
   "metadata": {},
   "source": [
    "## Exercise 8.4\n",
    "\n",
    "The following functions are all intended to check whether a string contains any lowercase letters, but at least some of them are wrong. For each function describe what the function actually does (assuming that the parameter is a string)."
   ]
  },
  {
   "cell_type": "code",
   "execution_count": 4,
   "metadata": {},
   "outputs": [],
   "source": [
    "def any_lowercase1(s):\n",
    "    for c in s:\n",
    "        if c.islower():\n",
    "           return True\n",
    "        else:\n",
    "           return False\n",
    "    '''\n",
    "    This function will only check the first letter in s, since islower() will either return Ture or False\n",
    "    on the first letter the return is executed\n",
    "    '''\n",
    "       \n",
    "def any_lowercase2(s):\n",
    "    for c in s:\n",
    "        if 'c'.islower():\n",
    "            return 'True'\n",
    "        else:\n",
    "            return 'False'\n",
    "    '''\n",
    "    This function will always return 'True' as a string since the condition 'c'.islower() will always be True\n",
    "    as it is checking lowercase 'c' as a string and not the variable c\n",
    "    '''\n",
    "def any_lowercase3(s):\n",
    "    for c in s:\n",
    "        flag = c.islower()\n",
    "    return flag\n",
    "    '''\n",
    "    This function will return the c.islower() condition of the last letter, since the flag is overwritten during every\n",
    "    cycle of the for loop\n",
    "    '''\n",
    "\n",
    "def any_lowercase4(s):\n",
    "    flag = False\n",
    "    for c in s:\n",
    "        flag = flag or c.islower()\n",
    "    return flag\n",
    "    '''\n",
    "    This function will return True if at least one character is lower case\n",
    "    '''\n",
    "\n",
    "def any_lowercase5(s):\n",
    "    for c in s:\n",
    "        if not c.islower():\n",
    "            return False\n",
    "    return True\n",
    "    '''\n",
    "    This function will return False once it has encountered the first upper case letter, there could be lower case\n",
    "    letters after the upper case letters\n",
    "    '''"
   ]
  },
  {
   "cell_type": "markdown",
   "metadata": {},
   "source": [
    "***"
   ]
  },
  {
   "cell_type": "markdown",
   "metadata": {},
   "source": [
    "## Exercise 8.5\n",
    "\n",
    "A Caesar cypher is a weak form of encryption that involves \"rotating\" each letter by a fixed number of places. To rotate a letter means to shift it through the alphabet, wrapping around to the beginning if necessary, so 'A' rotated by 3 is 'D' and 'Z' rotated by 1 is 'A'.<br>\n",
    "<br>\n",
    "To rotate a word, rotate each letter by the same amount. For example, \"cheer\" rotated by 7 is \"jolly\" and \"melon\" rotated by -10 is \"cubed\". In the movie 2001: A Space Odyssey, the ship computer is called HAL, which is IBM rotated by -1.<br>\n",
    "<br>\n",
    "Write a function called `rotate_word` that takes a string and an integer as parameters, and returns a new string that contains the letters from the original string rotated by the given amount.<br>\n",
    "<br>\n",
    "You might want to use the built-in function `ord`, which converts a character to a numeric code, and `chr`, which converts numeric codes to characters. Letters of the alphabet are encoded in alphabetical\n",
    "order, so for example:"
   ]
  },
  {
   "cell_type": "code",
   "execution_count": 5,
   "metadata": {},
   "outputs": [
    {
     "output_type": "execute_result",
     "data": {
      "text/plain": "2"
     },
     "metadata": {},
     "execution_count": 5
    }
   ],
   "source": [
    "ord('c') - ord('a')"
   ]
  },
  {
   "cell_type": "markdown",
   "metadata": {},
   "source": [
    "Because 'c' is the two-eth letter of the alphabet. But beware: the numeric codes for upper case letters are different.\n",
    "Potentially offensive jokes on the Internet are sometimes encoded in ROT13, which is a Caesar cypher with rotation 13. If you are not easily offended, find and decode some of them.<br>\n",
    "<i>Solution: http://thinkpython2.com/code/rotate.py</i>"
   ]
  },
  {
   "cell_type": "code",
   "execution_count": 6,
   "metadata": {
    "tags": []
   },
   "outputs": [
    {
     "output_type": "stream",
     "name": "stdout",
     "text": "jolly\ncubed\nHAL\n"
    }
   ],
   "source": [
    "def rotate_letter(letter, n):\n",
    "    \"\"\"Rotates a letter by n places.  Does not change other chars.\n",
    "    letter: single-letter string\n",
    "    n: int\n",
    "    Returns: single-letter string\n",
    "    \"\"\"\n",
    "    if letter.isupper():\n",
    "        start = ord('A')\n",
    "    elif letter.islower():\n",
    "        start = ord('a')\n",
    "    else:\n",
    "        return letter\n",
    "\n",
    "    c = ord(letter) - start\n",
    "    i = (c + n) % 26 + start\n",
    "    return chr(i)\n",
    "\n",
    "\n",
    "def rotate_word(word, n):\n",
    "    \"\"\"Rotates a word by n places.\n",
    "    word: string\n",
    "    n: integer\n",
    "    Returns: string\n",
    "    \"\"\"\n",
    "    res = ''\n",
    "    for letter in word:\n",
    "        res += rotate_letter(letter, n)\n",
    "    return res\n",
    "\n",
    "print(rotate_word('cheer', 7))\n",
    "print(rotate_word('melon', -10))\n",
    "print(rotate_word('IBM', -1))"
   ]
  }
 ]
}