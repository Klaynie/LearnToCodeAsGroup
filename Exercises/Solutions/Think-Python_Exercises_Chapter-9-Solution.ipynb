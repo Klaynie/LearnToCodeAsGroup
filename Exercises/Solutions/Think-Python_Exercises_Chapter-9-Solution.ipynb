{
 "cells": [
  {
   "cell_type": "markdown",
   "metadata": {},
   "source": [
    "# Exercises - Chapter 9"
   ]
  },
  {
   "cell_type": "markdown",
   "metadata": {},
   "source": [
    "***"
   ]
  },
  {
   "cell_type": "markdown",
   "metadata": {},
   "source": [
    "### Exercise 9.1\n",
    "\n",
    "Write a program that reads `words.txt` and prints only the words with more than 20 characters (not counting whitespace)."
   ]
  },
  {
   "cell_type": "code",
   "execution_count": 1,
   "metadata": {
    "tags": []
   },
   "outputs": [
    {
     "output_type": "stream",
     "name": "stdout",
     "text": "counterdemonstrations\nhyperaggressivenesses\nmicrominiaturizations\n"
    }
   ],
   "source": [
    "def words_with_more_than_20_characters():\n",
    "    word_list = open('words.txt')\n",
    "    for line in word_list:\n",
    "        word = line.strip() \n",
    "        if len(word) > 20:\n",
    "           print(word)\n",
    "\n",
    "words_with_more_than_20_characters()"
   ]
  },
  {
   "cell_type": "markdown",
   "metadata": {},
   "source": [
    "***"
   ]
  },
  {
   "cell_type": "markdown",
   "metadata": {},
   "source": [
    "### Exercise 9.2\n",
    "\n",
    "In 1939 Ernest Vincent Wright published a 50,000 word novel called Gadsby that does not contain the letter \"e\". Since \"e\" is the most common letter in English, that is not easy to do.<br>\n",
    "<br>\n",
    "In fact, it is difficult to construct a solitary thought without using that most common symbol. It is \n",
    "slow going at first, but with caution and hours of training you can gradually gain facility.<br>\n",
    "<br>\n",
    "All right, I will stop now.<br>\n",
    "<br>\n",
    "Write a function called `has_no_e` that returns `True` if the given word does not have the letter \"e\" in\n",
    "it.<br>\n",
    "<br>\n",
    "Write a program that reads `words.txt` and prints only the words that have no \"e\". Compute the percentage of words in the list that have no \"e\"."
   ]
  },
  {
   "cell_type": "code",
   "execution_count": 2,
   "metadata": {
    "tags": [
     "outputPrepend"
    ]
   },
   "outputs": [
    {
     "output_type": "stream",
     "name": "stdout",
     "text": "ps\nunrobing\nunroll\nunrolling\nunrolls\nunroof\nunroofing\nunroofs\nunroot\nunrooting\nunroots\nunrough\nunround\nunrounding\nunrounds\nunruly\nuns\nunsaddling\nunsaid\nunsanitary\nunsatisfactory\nunsatisfying\nunsavory\nunsawn\nunsay\nunsaying\nunsays\nunscrambling\nunscrupulous\nunscrupulously\nunsharp\nunshift\nunshifting\nunshifts\nunship\nunshipping\nunships\nunshod\nunshorn\nunshrunk\nunshut\nunsight\nunsighting\nunsights\nunsinful\nunskillful\nunskillfully\nunsling\nunslinging\nunslings\nunslung\nunsnap\nunsnapping\nunsnaps\nunsnarl\nunsnarling\nunsnarls\nunsocial\nunsold\nunsolid\nunsoncy\nunsonsy\nunsought\nunsound\nunsoundly\nunsown\nunspilt\nunsplit\nunspoilt\nunsprung\nunspun\nunstably\nunstack\nunstacking\nunstacks\nunstating\nunstick\nunsticking\nunsticks\nunstop\nunstopping\nunstops\nunstrap\nunstrapping\nunstraps\nunstring\nunstringing\nunstrings\nunstrung\nunstung\nunsung\nunsunk\nunswathing\nunsworn\nuntack\nuntacking\nuntacks\nuntangling\nuntaught\nunthink\nunthinking\nunthinkingly\nunthinks\nunthought\nunthroning\nuntidily\nuntidy\nuntidying\nuntil\nuntiring\nunto\nuntold\nuntoward\nuntrim\nuntrimming\nuntrims\nuntrod\nuntruly\nuntruss\nuntrussing\nuntrustworthy\nuntrusty\nuntruth\nuntruthful\nuntruths\nuntuck\nuntucking\nuntucks\nuntuning\nuntwining\nuntwist\nuntwisting\nuntwists\nuntying\nunusual\nunvarying\nunvocal\nunvoicing\nunwarily\nunwary\nunwas\nunwilling\nunwillingly\nunwind\nunwinding\nunwinds\nunwisdom\nunwisdoms\nunwish\nunwishing\nunwit\nunwits\nunwitting\nunwittingly\nunwon\nunworn\nunworthily\nunworthy\nunwound\nunwrap\nunwrapping\nunwraps\nunwrung\nunyoking\nunzip\nunzipping\nunzips\nup\nupas\nupbind\nupbinding\nupbinds\nupboil\nupboiling\nupboils\nupbound\nupbraid\nupbraiding\nupbraids\nupbringing\nupbringings\nupbuild\nupbuilding\nupbuilds\nupbuilt\nupby\nupcast\nupcasting\nupcasts\nupchuck\nupchucking\nupchucks\nupclimb\nupclimbing\nupclimbs\nupcoil\nupcoiling\nupcoils\nupcoming\nupcurl\nupcurling\nupcurls\nupcurving\nupdart\nupdarting\nupdarts\nupdating\nupdiving\nupdo\nupdos\nupdraft\nupdrafts\nupdry\nupdrying\nupfling\nupflinging\nupflings\nupflow\nupflowing\nupflows\nupflung\nupfold\nupfolding\nupfolds\nupgazing\nupgird\nupgirding\nupgirds\nupgirt\nupgoing\nupgrading\nupgrow\nupgrowing\nupgrown\nupgrows\nupgrowth\nupgrowths\nuphill\nuphills\nuphoard\nuphoarding\nuphoards\nuphold\nupholding\nupholds\nupland\nuplands\nuplift\nuplifting\nuplifts\nuplight\nuplighting\nuplights\nuplit\nupmost\nupo\nupon\nuppiling\nupping\nuppings\nuppish\nuppishly\nuppity\nupprop\nuppropping\nupprops\nupraising\nupright\nuprighting\nuprights\nuprising\nuprisings\nuproar\nuproarious\nuproariously\nuproars\nuproot\nuprootal\nuprootals\nuprooting\nuproots\nuprousing\nuprush\nuprushing\nups\nupshift\nupshifting\nupshifts\nupshoot\nupshooting\nupshoots\nupshot\nupshots\nupsilon\nupsilons\nupsoar\nupsoaring\nupsoars\nupsprang\nupspring\nupspringing\nupsprings\nupsprung\nupstaging\nupstair\nupstairs\nupstand\nupstanding\nupstands\nupstaring\nupstart\nupstarting\nupstarts\nupstir\nupstirring\nupstirs\nupstood\nupsurging\nupswing\nupswinging\nupswings\nupswung\nupthrow\nupthrowing\nupthrown\nupthrows\nupthrust\nupthrusting\nupthrusts\nuptight\nuptilt\nuptilting\nuptilts\nuptorn\nuptoss\nuptossing\nuptown\nuptowns\nupturn\nupturning\nupturns\nupwaft\nupwafting\nupwafts\nupward\nupwardly\nupwards\nupwind\nupwinds\nuracil\nuracils\nuralitic\nuranic\nuranism\nuranisms\nuranitic\nuranium\nuraniums\nuranous\nuranyl\nuranylic\nuranyls\nurari\nuraris\nuratic\nurban\nurbanising\nurbanism\nurbanisms\nurbanist\nurbanists\nurbanity\nurbanizing\nurchin\nurchins\nurd\nurds\nurging\nurgingly\nuric\nurinal\nurinals\nurinalysis\nurinary\nurinating\nurination\nurinations\nurinous\nurn\nurns\nurochord\nurochords\nurolagnia\nurolagnias\nurolith\nuroliths\nurologic\nurology\nuropod\nuropodal\nuropods\nuroscopy\nursa\nursiform\nurticant\nurticants\nurticating\nurus\nurushiol\nurushiols\nus\nusability\nusably\nusing\nusual\nusually\nusuals\nusufruct\nusufructs\nusurious\nusurp\nusurping\nusurps\nusury\nut\nuta\nutas\nutilidor\nutilidors\nutilising\nutilitarian\nutility\nutilization\nutilizing\nutmost\nutmosts\nutopia\nutopian\nutopians\nutopias\nutopism\nutopisms\nutopist\nutopists\nutriculi\nuts\nuvula\nuvular\nuvularly\nuvulars\nuvulas\nuvulitis\nuxorial\nuxorious\nvacancy\nvacant\nvacantly\nvacating\nvacation\nvacationing\nvacations\nvaccina\nvaccinal\nvaccinas\nvaccinating\nvaccination\nvaccinations\nvaccinia\nvaccinias\nvacillating\nvacillation\nvacillations\nvacua\nvacuity\nvacuolar\nvacuous\nvacuously\nvacuum\nvacuuming\nvacuums\nvagabond\nvagabonding\nvagabonds\nvagal\nvagally\nvagary\nvagi\nvagility\nvagina\nvaginal\nvaginas\nvagotomy\nvagrancy\nvagrant\nvagrants\nvagrom\nvagus\nvail\nvailing\nvails\nvain\nvainly\nvair\nvairs\nvakil\nvakils\nvalancing\nvalgoid\nvalgus\nvaliancy\nvaliant\nvaliantly\nvaliants\nvalid\nvalidating\nvalidation\nvalidations\nvalidity\nvalidly\nvalkyr\nvalkyrs\nvalonia\nvalonias\nvalor\nvalorising\nvalorizing\nvalorous\nvalors\nvalour\nvalours\nvaluably\nvaluating\nvaluation\nvaluations\nvaluator\nvaluators\nvaluing\nvaluta\nvalutas\nvalval\nvalvar\nvalving\nvalvula\nvalvular\nvamoosing\nvamosing\nvamp\nvamping\nvampiric\nvampish\nvamps\nvan\nvanadic\nvanadium\nvanadiums\nvanadous\nvanda\nvandal\nvandalic\nvandalism\nvandalisms\nvandalizing\nvandals\nvandas\nvang\nvangs\nvanguard\nvanguards\nvanilla\nvanillas\nvanillic\nvanillin\nvanillins\nvanish\nvanishing\nvanity\nvanman\nvanquish\nvanquishing\nvans\nvanward\nvapid\nvapidity\nvapidly\nvapor\nvaporing\nvaporings\nvaporish\nvaporising\nvaporization\nvaporizations\nvaporizing\nvaporous\nvapors\nvapory\nvapour\nvapouring\nvapours\nvapoury\nvara\nvaras\nvaria\nvariability\nvariably\nvariant\nvariants\nvariating\nvariation\nvariations\nvariform\nvariola\nvariolar\nvariolas\nvariorum\nvariorums\nvarious\nvariously\nvaristor\nvaristors\nvarix\nvarmint\nvarmints\nvarna\nvarnas\nvarnish\nvarnishing\nvarnishy\nvarsity\nvarus\nvary\nvarying\nvas\nvasa\nvasal\nvascula\nvascular\nvasculum\nvasculums\nvasiform\nvassal\nvassals\nvast\nvastity\nvastly\nvasts\nvasty\nvat\nvatful\nvatfuls\nvatic\nvatical\nvats\nvatting\nvau\nvault\nvaulting\nvaultings\nvaults\nvaulty\nvaunt\nvauntful\nvaunting\nvaunts\nvaunty\nvaus\nvav\nvavasor\nvavasors\nvavasour\nvavasours\nvavassor\nvavassors\nvavs\nvaw\nvaward\nvawards\nvaws\nvia\nviability\nviably\nviaduct\nviaducts\nvial\nvialing\nvialling\nvials\nviand\nviands\nviatic\nviatica\nviatical\nviaticum\nviaticums\nviator\nviators\nvibioid\nvibist\nvibists\nvibrancy\nvibrant\nvibrants\nvibrating\nvibration\nvibrations\nvibrato\nvibrator\nvibrators\nvibratory\nvibratos\nvibrio\nvibrion\nvibrions\nvibrios\nvibrissa\nviburnum\nviburnums\nvicar\nvicarial\nvicarious\nvicariously\nvicarly\nvicars\nvichy\nvicinal\nvicing\nvicinity\nvicious\nviciously\nvictim\nvictimization\nvictimizations\nvictimizing\nvictims\nvictor\nvictoria\nvictorias\nvictorious\nvictoriously\nvictors\nvictory\nvictual\nvictualing\nvictualling\nvictuals\nvicugna\nvicugnas\nvicuna\nvicunas\nvidicon\nvidicons\nviduity\nvigil\nvigilant\nvigilantly\nvigils\nvigor\nvigorish\nvigoroso\nvigorous\nvigorously\nvigors\nvigour\nvigours\nviking\nvikings\nvilification\nvilifications\nvilify\nvilifying\nvill\nvilla\nvilladom\nvilladoms\nvillain\nvillains\nvillainy\nvillas\nvillatic\nvilli\nvillianous\nvillianously\nvillous\nvills\nvillus\nvim\nvimina\nviminal\nvimpa\nvims\nvin\nvina\nvinal\nvinals\nvinas\nvinca\nvincas\nvincula\nvinculum\nvinculums\nvindicating\nvindication\nvindications\nvindicator\nvindicators\nvinic\nvining\nvino\nvinos\nvinosity\nvinous\nvinously\nvins\nviny\nvinyl\nvinylic\nvinyls\nviol\nviola\nviolably\nviolas\nviolating\nviolation\nviolations\nviolator\nviolators\nviolin\nviolinist\nviolinists\nviolins\nviolist\nviolists\nviols\nviomycin\nviomycins\nvirago\nviragos\nviral\nvirally\nvirga\nvirgas\nvirgin\nvirginal\nvirginally\nvirginals\nvirgins\nvirid\nviridian\nviridians\nviridity\nvirilism\nvirilisms\nvirility\nvirion\nvirions\nvirl\nvirls\nvirology\nvirosis\nvirtu\nvirtual\nvirtually\nvirtuosa\nvirtuosas\nvirtuosi\nvirtuosity\nvirtuoso\nvirtuosos\nvirtuous\nvirtuously\nvirtus\nvirus\nvis\nvisa\nvisaing\nvisard\nvisards\nvisas\nviscacha\nviscachas\nviscid\nviscidity\nviscidly\nviscoid\nviscount\nviscounts\nviscous\nviscus\nvisibility\nvisibly\nvising\nvision\nvisional\nvisionary\nvisioning\nvisions\nvisit\nvisitant\nvisitants\nvisitation\nvisitations\nvisiting\nvisitor\nvisitors\nvisits\nvisor\nvisoring\nvisors\nvista\nvistas\nvisual\nvisualization\nvisualizations\nvisualizing\nvisually\nvita\nvital\nvitalising\nvitalism\nvitalisms\nvitalist\nvitalists\nvitality\nvitalizing\nvitally\nvitals\nvitamin\nvitamins\nvitiating\nvitiation\nvitiations\nvitiator\nvitiators\nvitiligo\nvitiligos\nvitric\nvitrification\nvitrifications\nvitrify\nvitrifying\nvitriol\nvitriolic\nvitrioling\nvitriolling\nvitriols\nvitta\nvittling\nviva\nvivacious\nvivaciously\nvivacity\nvivaria\nvivarium\nvivariums\nvivary\nvivas\nvivid\nvividly\nvivific\nvivify\nvivifying\nvivipara\nvizard\nvizards\nvizcacha\nvizcachas\nvizir\nvizirial\nvizirs\nvizor\nvizoring\nvizors\nvizsla\nvizslas\nvocably\nvocabulary\nvocal\nvocalic\nvocalics\nvocalising\nvocalism\nvocalisms\nvocalist\nvocalists\nvocality\nvocalizing\nvocally\nvocals\nvocation\nvocational\nvocations\nvodka\nvodkas\nvodum\nvodums\nvodun\nvoguish\nvoicing\nvoid\nvoiding\nvoids\nvolant\nvolar\nvolatility\nvolatilizing\nvolcanic\nvolcanics\nvolcano\nvolcanos\nvoling\nvolitant\nvolition\nvolitional\nvolitions\nvolost\nvolosts\nvolplaning\nvolt\nvolta\nvoltaic\nvoltaism\nvoltaisms\nvolti\nvolts\nvolubility\nvolubly\nvoluming\nvoluminous\nvoluntarily\nvoluntary\nvoluptuous\nvoluptuously\nvolutin\nvolutins\nvolution\nvolutions\nvolva\nvolvas\nvolvox\nvolvuli\nvolvulus\nvomica\nvomit\nvomiting\nvomito\nvomitory\nvomitos\nvomitous\nvomits\nvomitus\nvon\nvoodoo\nvoodooing\nvoodooism\nvoodooisms\nvoodoos\nvoracious\nvoraciously\nvoracity\nvortical\nvotarist\nvotarists\nvotary\nvoting\nvouch\nvouching\nvouchsafing\nvoussoir\nvoussoirs\nvow\nvowing\nvows\nvox\nvoyaging\nvroom\nvrooming\nvrooms\nvrouw\nvrouws\nvrow\nvrows\nvug\nvugg\nvuggs\nvuggy\nvugh\nvughs\nvugs\nvulcanic\nvulcanization\nvulcanizations\nvulcanizing\nvulgar\nvulgarism\nvulgarisms\nvulgarity\nvulgarizing\nvulgarly\nvulgars\nvulgo\nvulgus\nvulva\nvulval\nvulvar\nvulvas\nvulvitis\nvying\nvyingly\nwab\nwabbling\nwabbly\nwabs\nwack\nwackily\nwacks\nwacky\nwad\nwadding\nwaddings\nwaddling\nwaddly\nwaddy\nwaddying\nwadi\nwading\nwadis\nwadmaal\nwadmaals\nwadmal\nwadmals\nwadmol\nwadmoll\nwadmolls\nwadmols\nwads\nwady\nwaff\nwaffing\nwaffling\nwaffs\nwaft\nwafting\nwafts\nwag\nwagging\nwaggish\nwaggling\nwaggly\nwaggon\nwaggoning\nwaggons\nwaging\nwagon\nwagoning\nwagons\nwags\nwagtail\nwagtails\nwahconda\nwahcondas\nwahoo\nwahoos\nwaif\nwaifing\nwaifs\nwail\nwailful\nwailing\nwails\nwain\nwains\nwainscot\nwainscoting\nwainscots\nwainscotting\nwair\nwairing\nwairs\nwaist\nwaisting\nwaistings\nwaists\nwait\nwaiting\nwaitings\nwaits\nwaiving\nwakanda\nwakandas\nwakiki\nwakikis\nwaking\nwaling\nwalk\nwalkaway\nwalkaways\nwalking\nwalkings\nwalkout\nwalkouts\nwalks\nwalkup\nwalkups\nwalkway\nwalkways\nwall\nwalla\nwallaby\nwallah\nwallahs\nwallaroo\nwallaroos\nwallas\nwalling\nwallop\nwalloping\nwallops\nwallow\nwallowing\nwallows\nwalls\nwally\nwalnut\nwalnuts\nwalrus\nwaltz\nwaltzing\nwaly\nwambling\nwambly\nwammus\nwampish\nwampishing\nwampum\nwampums\nwampus\nwamus\nwan\nwand\nwands\nwangan\nwangans\nwangling\nwangun\nwanguns\nwanigan\nwanigans\nwaning\nwanion\nwanions\nwanly\nwannigan\nwannigans\nwanning\nwans\nwant\nwanting\nwanton\nwantoning\nwantonly\nwantons\nwants\nwany\nwap\nwapiti\nwapitis\nwapping\nwaps\nwar\nwarbling\nwarcraft\nwarcrafts\nward\nwarding\nwardroom\nwardrooms\nwards\nwardship\nwardships\nwarfarin\nwarfarins\nwarily\nwaring\nwarison\nwarisons\nwark\nwarking\nwarks\nwarlock\nwarlocks\nwarlord\nwarlords\nwarm\nwarming\nwarmish\nwarmly\nwarmouth\nwarmouths\nwarms\nwarmth\nwarmths\nwarmup\nwarmups\nwarn\nwarning\nwarnings\nwarns\nwarp\nwarpath\nwarpaths\nwarping\nwarps\nwarragal\nwarragals\nwarrant\nwarranting\nwarrants\nwarranty\nwarrigal\nwarrigals\nwarring\nwarrior\nwarriors\nwars\nwarsaw\nwarsaws\nwarship\nwarships\nwarsling\nwarstling\nwart\nwarthog\nwarthogs\nwarts\nwarty\nwarwork\nwarworks\nwarworn\nwary\nwas\nwash\nwashboard\nwashboards\nwashbowl\nwashbowls\nwashcloth\nwashcloths\nwashday\nwashdays\nwashing\nwashings\nwashington\nwashout\nwashouts\nwashrag\nwashrags\nwashroom\nwashrooms\nwashtub\nwashtubs\nwashy\nwasp\nwaspily\nwaspish\nwasps\nwaspy\nwassail\nwassailing\nwassails\nwast\nwasting\nwastry\nwasts\nwat\nwatap\nwataps\nwatch\nwatchcry\nwatchdog\nwatchdogging\nwatchdogs\nwatchful\nwatchfully\nwatching\nwatchman\nwatchout\nwatchouts\nwats\nwatt\nwatthour\nwatthours\nwattling\nwatts\nwaucht\nwauchting\nwauchts\nwaugh\nwaught\nwaughting\nwaughts\nwauk\nwauking\nwauks\nwaul\nwauling\nwauls\nwaur\nwavily\nwaving\nwavy\nwaw\nwawl\nwawling\nwawls\nwaws\nwax\nwaxbill\nwaxbills\nwaxily\nwaxing\nwaxings\nwaxplant\nwaxplants\nwaxwing\nwaxwings\nwaxwork\nwaxworks\nwaxworm\nwaxworms\nwaxy\nway\nwaybill\nwaybills\nwayfaring\nwaygoing\nwaygoings\nwaylaid\nwaylay\nwaylaying\nwaylays\nways\nwayward\nwayworn\nwha\nwhack\nwhacking\nwhacks\nwhacky\nwhaling\nwhalings\nwham\nwhamming\nwhammy\nwhams\nwhang\nwhanging\nwhangs\nwhap\nwhapping\nwhaps\nwharf\nwharfing\nwharfs\nwhat\nwhatnot\nwhatnots\nwhats\nwhaup\nwhaups\nwhich\nwhid\nwhidah\nwhidahs\nwhidding\nwhids\nwhiff\nwhiffing\nwhiffling\nwhiffs\nwhiling\nwhilom\nwhilst\nwhim\nwhims\nwhimsical\nwhimsicality\nwhimsically\nwhimsy\nwhin\nwhinchat\nwhinchats\nwhining\nwhinny\nwhinnying\nwhins\nwhiny\nwhip\nwhipcord\nwhipcords\nwhiplash\nwhipping\nwhippings\nwhippoorwill\nwhippoorwills\nwhippy\nwhipray\nwhiprays\nwhips\nwhipsaw\nwhipsawing\nwhipsawn\nwhipsaws\nwhipt\nwhiptail\nwhiptails\nwhipworm\nwhipworms\nwhir\nwhirl\nwhirling\nwhirlpool\nwhirlpools\nwhirls\nwhirlwind\nwhirlwinds\nwhirly\nwhirr\nwhirring\nwhirrs\nwhirry\nwhirrying\nwhirs\nwhish\nwhishing\nwhisht\nwhishting\nwhishts\nwhisk\nwhisking\nwhisks\nwhisky\nwhist\nwhisting\nwhistling\nwhists\nwhit\nwhiting\nwhitings\nwhitish\nwhitlow\nwhitlows\nwhitrack\nwhitracks\nwhits\nwhittling\nwhity\nwhiz\nwhizbang\nwhizbangs\nwhizz\nwhizzing\nwho\nwhoa\nwhoas\nwhodunit\nwhodunits\nwholism\nwholisms\nwholly\nwhom\nwhomp\nwhomping\nwhomps\nwhomso\nwhoop\nwhooping\nwhoopla\nwhooplas\nwhoops\nwhoosh\nwhooshing\nwhoosis\nwhop\nwhopping\nwhops\nwhoring\nwhorish\nwhorl\nwhorls\nwhort\nwhorts\nwhosis\nwhoso\nwhump\nwhumping\nwhumps\nwhy\nwhydah\nwhydahs\nwhys\nwich\nwick\nwicking\nwickings\nwickiup\nwickiups\nwicks\nwickyup\nwickyups\nwicopy\nwiddling\nwiddy\nwidish\nwidow\nwidowhood\nwidowhoods\nwidowing\nwidows\nwidth\nwidths\nwidthway\nwifing\nwig\nwigan\nwigans\nwigging\nwiggings\nwiggling\nwiggly\nwight\nwights\nwigs\nwigwag\nwigwagging\nwigwags\nwigwam\nwigwams\nwikiup\nwikiups\nwilco\nwild\nwildcat\nwildcats\nwildcatting\nwildfowl\nwildfowls\nwilding\nwildings\nwildish\nwildling\nwildlings\nwildly\nwilds\nwildwood\nwildwoods\nwilful\nwilfully\nwilily\nwiling\nwill\nwillful\nwillfully\nwilling\nwillingly\nwilliwau\nwilliwaus\nwilliwaw\nwilliwaws\nwillow\nwillowing\nwillows\nwillowy\nwills\nwilly\nwillyard\nwillyart\nwillying\nwillywaw\nwillywaws\nwilt\nwilting\nwilts\nwily\nwimbling\nwimpling\nwin\nwinch\nwinching\nwincing\nwind\nwindbag\nwindbags\nwindburn\nwindburning\nwindburns\nwindburnt\nwindfall\nwindfalls\nwindflaw\nwindflaws\nwindgall\nwindgalls\nwindigo\nwindigos\nwindily\nwinding\nwindings\nwindlass\nwindlassing\nwindling\nwindlings\nwindmill\nwindmilling\nwindmills\nwindow\nwindowing\nwindows\nwindrow\nwindrowing\nwindrows\nwinds\nwindsock\nwindsocks\nwindup\nwindups\nwindward\nwindwards\nwindway\nwindways\nwindy\nwing\nwingback\nwingbacks\nwingbow\nwingbows\nwingding\nwingdings\nwinging\nwingman\nwings\nwingspan\nwingspans\nwingy\nwining\nwinish\nwink\nwinking\nwinkling\nwinks\nwinning\nwinnings\nwinnock\nwinnocks\nwinnow\nwinnowing\nwinnows\nwino\nwinos\nwins\nwintling\nwintrily\nwintry\nwiny\nwiping\nwirily\nwiring\nwirings\nwirra\nwiry\nwis\nwisdom\nwisdoms\nwish\nwisha\nwishful\nwishing\nwising\nwisp\nwispily\nwisping\nwispish\nwisps\nwispy\nwiss\nwissing\nwist\nwistaria\nwistarias\nwistful\nwistfully\nwisting\nwists\nwit\nwitan\nwitch\nwitchcraft\nwitchcrafts\nwitching\nwitchings\nwitchy\nwith\nwithal\nwithdraw\nwithdrawal\nwithdrawals\nwithdrawing\nwithdrawn\nwithdraws\nwithhold\nwithholding\nwithholds\nwithin\nwithing\nwithins\nwithout\nwithouts\nwithstand\nwithstanding\nwithstands\nwithstood\nwithy\nwiting\nwitling\nwitlings\nwitloof\nwitloofs\nwits\nwitticism\nwitticisms\nwittily\nwitting\nwittingly\nwittings\nwittol\nwittols\nwitty\nwiving\nwiz\nwizard\nwizardly\nwizardry\nwizards\nwo\nwoad\nwoads\nwoadwax\nwoald\nwoalds\nwobbling\nwobbly\nwoful\nwofully\nwok\nwoks\nwold\nwolds\nwolf\nwolffish\nwolfing\nwolfish\nwolfram\nwolframs\nwolfs\nwoman\nwomanhood\nwomanhoods\nwomaning\nwomanish\nwomanising\nwomanizing\nwomankind\nwomankinds\nwomanly\nwomans\nwomb\nwombat\nwombats\nwombs\nwomby\nwomps\nwon\nwondrous\nwondrously\nwonky\nwonning\nwons\nwont\nwonting\nwonton\nwontons\nwonts\nwoo\nwood\nwoodbin\nwoodbind\nwoodbinds\nwoodbins\nwoodbox\nwoodchat\nwoodchats\nwoodchuck\nwoodchucks\nwoodcock\nwoodcocks\nwoodcraft\nwoodcrafts\nwoodcut\nwoodcuts\nwooding\nwoodland\nwoodlands\nwoodlark\nwoodlarks\nwoodlot\nwoodlots\nwoodman\nwoodruff\nwoodruffs\nwoods\nwoodsia\nwoodsias\nwoodsman\nwoodsy\nwoodwax\nwoodwind\nwoodwinds\nwoodwork\nwoodworks\nwoodworm\nwoodworms\nwoody\nwoof\nwoofing\nwoofs\nwooing\nwooingly\nwool\nwoolly\nwoolman\nwoolpack\nwoolpacks\nwools\nwoolsack\nwoolsacks\nwoolskin\nwoolskins\nwooly\nwoops\nwoorali\nwooralis\nwoorari\nwooraris\nwoos\nwoosh\nwooshing\nwoozily\nwoozy\nwop\nwops\nword\nwordbook\nwordbooks\nwordily\nwording\nwordings\nwordplay\nwordplays\nwords\nwordy\nwork\nworkability\nworkaday\nworkbag\nworkbags\nworkboat\nworkboats\nworkbook\nworkbooks\nworkbox\nworkday\nworkdays\nworkfolk\nworking\nworkingman\nworkings\nworkload\nworkloads\nworkman\nworkmanship\nworkmanships\nworkout\nworkouts\nworkroom\nworkrooms\nworks\nworkshop\nworkshops\nworkup\nworkups\nworld\nworldly\nworlds\nworm\nwormil\nwormils\nworming\nwormish\nwormroot\nwormroots\nworms\nwormwood\nwormwoods\nwormy\nworn\nworrit\nworriting\nworrits\nworry\nworrying\nworship\nworshiping\nworshipping\nworships\nworst\nworsting\nworsts\nwort\nworth\nworthful\nworthily\nworthing\nworths\nworthy\nworts\nwos\nwost\nwot\nwots\nwotting\nwould\nwouldst\nwound\nwounding\nwounds\nwow\nwowing\nwows\nwrack\nwrackful\nwracking\nwracks\nwraith\nwraiths\nwrang\nwrangling\nwrangs\nwrap\nwrapping\nwrappings\nwraps\nwrapt\nwrastling\nwrath\nwrathful\nwrathily\nwrathing\nwraths\nwrathy\nwriggling\nwriggly\nwright\nwrights\nwring\nwringing\nwrings\nwrinkling\nwrinkly\nwrist\nwrists\nwristy\nwrit\nwrithing\nwriting\nwritings\nwrits\nwrong\nwrongdoing\nwrongdoings\nwrongful\nwrongfully\nwronging\nwrongly\nwrongs\nwroth\nwrothful\nwrought\nwrung\nwry\nwrying\nwryly\nwud\nwurst\nwursts\nwych\nwyling\nwynd\nwynds\nwynn\nwynns\nwyting\nxanthic\nxanthin\nxanthins\nxanthoma\nxanthomas\nxanthomata\nxanthous\nxi\nxiphoid\nxiphoids\nxis\nxu\nxylan\nxylans\nxylic\nxylidin\nxylidins\nxylocarp\nxylocarps\nxyloid\nxylol\nxylols\nxylophonist\nxylophonists\nxylotomy\nxylyl\nxylyls\nxyst\nxysti\nxystoi\nxystos\nxysts\nxystus\nya\nyacht\nyachting\nyachtings\nyachtman\nyachts\nyack\nyacking\nyacks\nyaff\nyaffing\nyaffs\nyagi\nyagis\nyah\nyahoo\nyahooism\nyahooisms\nyahoos\nyaird\nyairds\nyak\nyakking\nyaks\nyald\nyam\nyams\nyamun\nyamuns\nyang\nyangs\nyank\nyanking\nyanks\nyanqui\nyanquis\nyap\nyapock\nyapocks\nyapok\nyapoks\nyapon\nyapons\nyapping\nyappy\nyaps\nyar\nyard\nyardarm\nyardarms\nyardbird\nyardbirds\nyarding\nyardman\nyards\nyardstick\nyardsticks\nyardwand\nyardwands\nyarn\nyarning\nyarns\nyarrow\nyarrows\nyashmac\nyashmacs\nyashmak\nyashmaks\nyasmak\nyasmaks\nyatagan\nyatagans\nyataghan\nyataghans\nyaud\nyauds\nyauld\nyaup\nyauping\nyaupon\nyaupons\nyaups\nyaw\nyawing\nyawl\nyawling\nyawls\nyawn\nyawning\nyawns\nyawp\nyawping\nyawpings\nyawps\nyaws\nyay\nyid\nyids\nyill\nyills\nyin\nyins\nyip\nyipping\nyips\nyird\nyirds\nyirr\nyirring\nyirrs\nyirth\nyirths\nyod\nyodh\nyodhs\nyodling\nyods\nyoga\nyogas\nyogh\nyoghourt\nyoghourts\nyoghs\nyoghurt\nyoghurts\nyogi\nyogic\nyogin\nyogini\nyoginis\nyogins\nyogis\nyogurt\nyogurts\nyoicks\nyoking\nyolk\nyolks\nyolky\nyom\nyomim\nyon\nyond\nyoni\nyonis\nyou\nyoung\nyoungish\nyoungs\nyoupon\nyoupons\nyour\nyourn\nyours\nyouth\nyouthful\nyouthfully\nyouths\nyow\nyowing\nyowl\nyowling\nyowls\nyows\nyttria\nyttrias\nyttric\nyttrium\nyttriums\nyuan\nyuans\nyucca\nyuccas\nyuga\nyugas\nyuk\nyukking\nyuks\nyulan\nyulans\nyummy\nyup\nyupon\nyupons\nyurt\nyurta\nyurts\nywis\nzacaton\nzacatons\nzaddik\nzaddikim\nzaffar\nzaffars\nzaffir\nzaffirs\nzaftig\nzag\nzagging\nzags\nzaibatsu\nzamarra\nzamarras\nzamarro\nzamarros\nzamia\nzamias\nzamindar\nzamindars\nzanana\nzananas\nzanily\nzany\nzanyish\nzanza\nzanzas\nzap\nzapping\nzaps\nzaptiah\nzaptiahs\nzarf\nzarfs\nzariba\nzaribas\nzastruga\nzastrugi\nzax\nzayin\nzayins\nzig\nzigging\nziggurat\nziggurats\nzigs\nzigzag\nzigzagging\nzigzags\nzikkurat\nzikkurats\nzikurat\nzikurats\nzilch\nzillah\nzillahs\nzillion\nzillions\nzinc\nzincic\nzincify\nzincifying\nzincing\nzincking\nzincky\nzincoid\nzincous\nzincs\nzincy\nzing\nzingani\nzingano\nzingara\nzingari\nzingaro\nzinging\nzings\nzingy\nzinkify\nzinkifying\nzinky\nzinnia\nzinnias\nzip\nzipping\nzippy\nzips\nziram\nzirams\nzircon\nzirconia\nzirconias\nzirconic\nzirconium\nzirconiums\nzircons\nziti\nzitis\nzizith\nzizzling\nzloty\nzlotys\nzoa\nzoaria\nzoarial\nzoarium\nzodiac\nzodiacal\nzodiacs\nzoftig\nzoic\nzombi\nzombiism\nzombiisms\nzombis\nzonal\nzonally\nzonary\nzonation\nzonations\nzoning\nzonula\nzonular\nzonulas\nzoo\nzooid\nzooidal\nzooids\nzooks\nzoolatry\nzoologic\nzoological\nzoologist\nzoologists\nzoology\nzoom\nzoomania\nzoomanias\nzooming\nzoomorph\nzoomorphs\nzooms\nzoon\nzoonal\nzoonosis\nzoonotic\nzoons\nzoos\nzootomic\nzootomy\nzori\nzoril\nzorilla\nzorillas\nzorillo\nzorillos\nzorils\nzounds\nzoysia\nzoysias\nzucchini\nzucchinis\nzygoma\nzygomas\nzygomata\nzygosis\nzygosity\nzygotic\nzymology\nzymosis\nzymotic\nzymurgy\nOut of 113809 words there are 37641 words where the filter applied, which is 33.07%\n"
    }
   ],
   "source": [
    "def has_no_e(word):\n",
    "    flag = False\n",
    "    for letter in word:\n",
    "        if letter == 'e':\n",
    "            return False\n",
    "    return True\n",
    "\n",
    "def filter_word_list(filter_function, argument=''):\n",
    "    if argument:\n",
    "        traverse_word_list(filter_function, argument)\n",
    "    else:\n",
    "        traverse_word_list(filter_function)\n",
    "\n",
    "def traverse_word_list(filter_function, argument=''):\n",
    "    total_counter = 0\n",
    "    filtered_counter = 0\n",
    "    word_list = open('words.txt')\n",
    "    if argument:\n",
    "        for line in word_list:\n",
    "            word = line.strip()\n",
    "            if filter_function(word, argument):\n",
    "                print(word)\n",
    "                filtered_counter += 1\n",
    "            total_counter += 1\n",
    "    else:\n",
    "        for line in word_list:\n",
    "            word = line.strip()\n",
    "            if filter_function(word):\n",
    "                print(word)\n",
    "                filtered_counter += 1\n",
    "            total_counter += 1\n",
    "    print(f'Out of {total_counter} words there are {filtered_counter} words where the filter applied, which is {(filtered_counter / total_counter):.2%}')\n",
    "    \n",
    "filter_word_list(has_no_e)"
   ]
  },
  {
   "cell_type": "markdown",
   "metadata": {},
   "source": [
    "***"
   ]
  },
  {
   "cell_type": "markdown",
   "metadata": {},
   "source": [
    "### Exercise 9.3\n",
    "\n",
    "Write a function named `avoids` that takes a word and a string of forbidden letters, and that returns `True` if the word does not use any of the forbidden letters.<br>\n",
    "<br>\n",
    "Write a program that prompts the user to enter a string of forbidden letters and then prints the number of words that do not contain any of them. Can you find a combination of 5 forbidden letters that excludes the smallest number of words?"
   ]
  },
  {
   "cell_type": "code",
   "execution_count": 3,
   "metadata": {
    "tags": [
     "outputPrepend"
    ]
   },
   "outputs": [
    {
     "output_type": "stream",
     "name": "stdout",
     "text": "ps\nunrobing\nunroll\nunrolling\nunrolls\nunroof\nunroofing\nunroofs\nunroot\nunrooting\nunroots\nunrough\nunround\nunrounding\nunrounds\nunruly\nuns\nunsaddling\nunsaid\nunsanitary\nunsatisfactory\nunsatisfying\nunsavory\nunsawn\nunsay\nunsaying\nunsays\nunscrambling\nunscrupulous\nunscrupulously\nunsharp\nunshift\nunshifting\nunshifts\nunship\nunshipping\nunships\nunshod\nunshorn\nunshrunk\nunshut\nunsight\nunsighting\nunsights\nunsinful\nunskillful\nunskillfully\nunsling\nunslinging\nunslings\nunslung\nunsnap\nunsnapping\nunsnaps\nunsnarl\nunsnarling\nunsnarls\nunsocial\nunsold\nunsolid\nunsoncy\nunsonsy\nunsought\nunsound\nunsoundly\nunsown\nunspilt\nunsplit\nunspoilt\nunsprung\nunspun\nunstably\nunstack\nunstacking\nunstacks\nunstating\nunstick\nunsticking\nunsticks\nunstop\nunstopping\nunstops\nunstrap\nunstrapping\nunstraps\nunstring\nunstringing\nunstrings\nunstrung\nunstung\nunsung\nunsunk\nunswathing\nunsworn\nuntack\nuntacking\nuntacks\nuntangling\nuntaught\nunthink\nunthinking\nunthinkingly\nunthinks\nunthought\nunthroning\nuntidily\nuntidy\nuntidying\nuntil\nuntiring\nunto\nuntold\nuntoward\nuntrim\nuntrimming\nuntrims\nuntrod\nuntruly\nuntruss\nuntrussing\nuntrustworthy\nuntrusty\nuntruth\nuntruthful\nuntruths\nuntuck\nuntucking\nuntucks\nuntuning\nuntwining\nuntwist\nuntwisting\nuntwists\nuntying\nunusual\nunvarying\nunvocal\nunvoicing\nunwarily\nunwary\nunwas\nunwilling\nunwillingly\nunwind\nunwinding\nunwinds\nunwisdom\nunwisdoms\nunwish\nunwishing\nunwit\nunwits\nunwitting\nunwittingly\nunwon\nunworn\nunworthily\nunworthy\nunwound\nunwrap\nunwrapping\nunwraps\nunwrung\nunyoking\nunzip\nunzipping\nunzips\nup\nupas\nupbind\nupbinding\nupbinds\nupboil\nupboiling\nupboils\nupbound\nupbraid\nupbraiding\nupbraids\nupbringing\nupbringings\nupbuild\nupbuilding\nupbuilds\nupbuilt\nupby\nupcast\nupcasting\nupcasts\nupchuck\nupchucking\nupchucks\nupclimb\nupclimbing\nupclimbs\nupcoil\nupcoiling\nupcoils\nupcoming\nupcurl\nupcurling\nupcurls\nupcurving\nupdart\nupdarting\nupdarts\nupdating\nupdiving\nupdo\nupdos\nupdraft\nupdrafts\nupdry\nupdrying\nupfling\nupflinging\nupflings\nupflow\nupflowing\nupflows\nupflung\nupfold\nupfolding\nupfolds\nupgazing\nupgird\nupgirding\nupgirds\nupgirt\nupgoing\nupgrading\nupgrow\nupgrowing\nupgrown\nupgrows\nupgrowth\nupgrowths\nuphill\nuphills\nuphoard\nuphoarding\nuphoards\nuphold\nupholding\nupholds\nupland\nuplands\nuplift\nuplifting\nuplifts\nuplight\nuplighting\nuplights\nuplit\nupmost\nupo\nupon\nuppiling\nupping\nuppings\nuppish\nuppishly\nuppity\nupprop\nuppropping\nupprops\nupraising\nupright\nuprighting\nuprights\nuprising\nuprisings\nuproar\nuproarious\nuproariously\nuproars\nuproot\nuprootal\nuprootals\nuprooting\nuproots\nuprousing\nuprush\nuprushing\nups\nupshift\nupshifting\nupshifts\nupshoot\nupshooting\nupshoots\nupshot\nupshots\nupsilon\nupsilons\nupsoar\nupsoaring\nupsoars\nupsprang\nupspring\nupspringing\nupsprings\nupsprung\nupstaging\nupstair\nupstairs\nupstand\nupstanding\nupstands\nupstaring\nupstart\nupstarting\nupstarts\nupstir\nupstirring\nupstirs\nupstood\nupsurging\nupswing\nupswinging\nupswings\nupswung\nupthrow\nupthrowing\nupthrown\nupthrows\nupthrust\nupthrusting\nupthrusts\nuptight\nuptilt\nuptilting\nuptilts\nuptorn\nuptoss\nuptossing\nuptown\nuptowns\nupturn\nupturning\nupturns\nupwaft\nupwafting\nupwafts\nupward\nupwardly\nupwards\nupwind\nupwinds\nuracil\nuracils\nuralitic\nuranic\nuranism\nuranisms\nuranitic\nuranium\nuraniums\nuranous\nuranyl\nuranylic\nuranyls\nurari\nuraris\nuratic\nurban\nurbanising\nurbanism\nurbanisms\nurbanist\nurbanists\nurbanity\nurbanizing\nurchin\nurchins\nurd\nurds\nurging\nurgingly\nuric\nurinal\nurinals\nurinalysis\nurinary\nurinating\nurination\nurinations\nurinous\nurn\nurns\nurochord\nurochords\nurolagnia\nurolagnias\nurolith\nuroliths\nurologic\nurology\nuropod\nuropodal\nuropods\nuroscopy\nursa\nursiform\nurticant\nurticants\nurticating\nurus\nurushiol\nurushiols\nus\nusability\nusably\nusing\nusual\nusually\nusuals\nusufruct\nusufructs\nusurious\nusurp\nusurping\nusurps\nusury\nut\nuta\nutas\nutilidor\nutilidors\nutilising\nutilitarian\nutility\nutilization\nutilizing\nutmost\nutmosts\nutopia\nutopian\nutopians\nutopias\nutopism\nutopisms\nutopist\nutopists\nutriculi\nuts\nuvula\nuvular\nuvularly\nuvulars\nuvulas\nuvulitis\nuxorial\nuxorious\nvacancy\nvacant\nvacantly\nvacating\nvacation\nvacationing\nvacations\nvaccina\nvaccinal\nvaccinas\nvaccinating\nvaccination\nvaccinations\nvaccinia\nvaccinias\nvacillating\nvacillation\nvacillations\nvacua\nvacuity\nvacuolar\nvacuous\nvacuously\nvacuum\nvacuuming\nvacuums\nvagabond\nvagabonding\nvagabonds\nvagal\nvagally\nvagary\nvagi\nvagility\nvagina\nvaginal\nvaginas\nvagotomy\nvagrancy\nvagrant\nvagrants\nvagrom\nvagus\nvail\nvailing\nvails\nvain\nvainly\nvair\nvairs\nvakil\nvakils\nvalancing\nvalgoid\nvalgus\nvaliancy\nvaliant\nvaliantly\nvaliants\nvalid\nvalidating\nvalidation\nvalidations\nvalidity\nvalidly\nvalkyr\nvalkyrs\nvalonia\nvalonias\nvalor\nvalorising\nvalorizing\nvalorous\nvalors\nvalour\nvalours\nvaluably\nvaluating\nvaluation\nvaluations\nvaluator\nvaluators\nvaluing\nvaluta\nvalutas\nvalval\nvalvar\nvalving\nvalvula\nvalvular\nvamoosing\nvamosing\nvamp\nvamping\nvampiric\nvampish\nvamps\nvan\nvanadic\nvanadium\nvanadiums\nvanadous\nvanda\nvandal\nvandalic\nvandalism\nvandalisms\nvandalizing\nvandals\nvandas\nvang\nvangs\nvanguard\nvanguards\nvanilla\nvanillas\nvanillic\nvanillin\nvanillins\nvanish\nvanishing\nvanity\nvanman\nvanquish\nvanquishing\nvans\nvanward\nvapid\nvapidity\nvapidly\nvapor\nvaporing\nvaporings\nvaporish\nvaporising\nvaporization\nvaporizations\nvaporizing\nvaporous\nvapors\nvapory\nvapour\nvapouring\nvapours\nvapoury\nvara\nvaras\nvaria\nvariability\nvariably\nvariant\nvariants\nvariating\nvariation\nvariations\nvariform\nvariola\nvariolar\nvariolas\nvariorum\nvariorums\nvarious\nvariously\nvaristor\nvaristors\nvarix\nvarmint\nvarmints\nvarna\nvarnas\nvarnish\nvarnishing\nvarnishy\nvarsity\nvarus\nvary\nvarying\nvas\nvasa\nvasal\nvascula\nvascular\nvasculum\nvasculums\nvasiform\nvassal\nvassals\nvast\nvastity\nvastly\nvasts\nvasty\nvat\nvatful\nvatfuls\nvatic\nvatical\nvats\nvatting\nvau\nvault\nvaulting\nvaultings\nvaults\nvaulty\nvaunt\nvauntful\nvaunting\nvaunts\nvaunty\nvaus\nvav\nvavasor\nvavasors\nvavasour\nvavasours\nvavassor\nvavassors\nvavs\nvaw\nvaward\nvawards\nvaws\nvia\nviability\nviably\nviaduct\nviaducts\nvial\nvialing\nvialling\nvials\nviand\nviands\nviatic\nviatica\nviatical\nviaticum\nviaticums\nviator\nviators\nvibioid\nvibist\nvibists\nvibrancy\nvibrant\nvibrants\nvibrating\nvibration\nvibrations\nvibrato\nvibrator\nvibrators\nvibratory\nvibratos\nvibrio\nvibrion\nvibrions\nvibrios\nvibrissa\nviburnum\nviburnums\nvicar\nvicarial\nvicarious\nvicariously\nvicarly\nvicars\nvichy\nvicinal\nvicing\nvicinity\nvicious\nviciously\nvictim\nvictimization\nvictimizations\nvictimizing\nvictims\nvictor\nvictoria\nvictorias\nvictorious\nvictoriously\nvictors\nvictory\nvictual\nvictualing\nvictualling\nvictuals\nvicugna\nvicugnas\nvicuna\nvicunas\nvidicon\nvidicons\nviduity\nvigil\nvigilant\nvigilantly\nvigils\nvigor\nvigorish\nvigoroso\nvigorous\nvigorously\nvigors\nvigour\nvigours\nviking\nvikings\nvilification\nvilifications\nvilify\nvilifying\nvill\nvilla\nvilladom\nvilladoms\nvillain\nvillains\nvillainy\nvillas\nvillatic\nvilli\nvillianous\nvillianously\nvillous\nvills\nvillus\nvim\nvimina\nviminal\nvimpa\nvims\nvin\nvina\nvinal\nvinals\nvinas\nvinca\nvincas\nvincula\nvinculum\nvinculums\nvindicating\nvindication\nvindications\nvindicator\nvindicators\nvinic\nvining\nvino\nvinos\nvinosity\nvinous\nvinously\nvins\nviny\nvinyl\nvinylic\nvinyls\nviol\nviola\nviolably\nviolas\nviolating\nviolation\nviolations\nviolator\nviolators\nviolin\nviolinist\nviolinists\nviolins\nviolist\nviolists\nviols\nviomycin\nviomycins\nvirago\nviragos\nviral\nvirally\nvirga\nvirgas\nvirgin\nvirginal\nvirginally\nvirginals\nvirgins\nvirid\nviridian\nviridians\nviridity\nvirilism\nvirilisms\nvirility\nvirion\nvirions\nvirl\nvirls\nvirology\nvirosis\nvirtu\nvirtual\nvirtually\nvirtuosa\nvirtuosas\nvirtuosi\nvirtuosity\nvirtuoso\nvirtuosos\nvirtuous\nvirtuously\nvirtus\nvirus\nvis\nvisa\nvisaing\nvisard\nvisards\nvisas\nviscacha\nviscachas\nviscid\nviscidity\nviscidly\nviscoid\nviscount\nviscounts\nviscous\nviscus\nvisibility\nvisibly\nvising\nvision\nvisional\nvisionary\nvisioning\nvisions\nvisit\nvisitant\nvisitants\nvisitation\nvisitations\nvisiting\nvisitor\nvisitors\nvisits\nvisor\nvisoring\nvisors\nvista\nvistas\nvisual\nvisualization\nvisualizations\nvisualizing\nvisually\nvita\nvital\nvitalising\nvitalism\nvitalisms\nvitalist\nvitalists\nvitality\nvitalizing\nvitally\nvitals\nvitamin\nvitamins\nvitiating\nvitiation\nvitiations\nvitiator\nvitiators\nvitiligo\nvitiligos\nvitric\nvitrification\nvitrifications\nvitrify\nvitrifying\nvitriol\nvitriolic\nvitrioling\nvitriolling\nvitriols\nvitta\nvittling\nviva\nvivacious\nvivaciously\nvivacity\nvivaria\nvivarium\nvivariums\nvivary\nvivas\nvivid\nvividly\nvivific\nvivify\nvivifying\nvivipara\nvizard\nvizards\nvizcacha\nvizcachas\nvizir\nvizirial\nvizirs\nvizor\nvizoring\nvizors\nvizsla\nvizslas\nvocably\nvocabulary\nvocal\nvocalic\nvocalics\nvocalising\nvocalism\nvocalisms\nvocalist\nvocalists\nvocality\nvocalizing\nvocally\nvocals\nvocation\nvocational\nvocations\nvodka\nvodkas\nvodum\nvodums\nvodun\nvoguish\nvoicing\nvoid\nvoiding\nvoids\nvolant\nvolar\nvolatility\nvolatilizing\nvolcanic\nvolcanics\nvolcano\nvolcanos\nvoling\nvolitant\nvolition\nvolitional\nvolitions\nvolost\nvolosts\nvolplaning\nvolt\nvolta\nvoltaic\nvoltaism\nvoltaisms\nvolti\nvolts\nvolubility\nvolubly\nvoluming\nvoluminous\nvoluntarily\nvoluntary\nvoluptuous\nvoluptuously\nvolutin\nvolutins\nvolution\nvolutions\nvolva\nvolvas\nvolvox\nvolvuli\nvolvulus\nvomica\nvomit\nvomiting\nvomito\nvomitory\nvomitos\nvomitous\nvomits\nvomitus\nvon\nvoodoo\nvoodooing\nvoodooism\nvoodooisms\nvoodoos\nvoracious\nvoraciously\nvoracity\nvortical\nvotarist\nvotarists\nvotary\nvoting\nvouch\nvouching\nvouchsafing\nvoussoir\nvoussoirs\nvow\nvowing\nvows\nvox\nvoyaging\nvroom\nvrooming\nvrooms\nvrouw\nvrouws\nvrow\nvrows\nvug\nvugg\nvuggs\nvuggy\nvugh\nvughs\nvugs\nvulcanic\nvulcanization\nvulcanizations\nvulcanizing\nvulgar\nvulgarism\nvulgarisms\nvulgarity\nvulgarizing\nvulgarly\nvulgars\nvulgo\nvulgus\nvulva\nvulval\nvulvar\nvulvas\nvulvitis\nvying\nvyingly\nwab\nwabbling\nwabbly\nwabs\nwack\nwackily\nwacks\nwacky\nwad\nwadding\nwaddings\nwaddling\nwaddly\nwaddy\nwaddying\nwadi\nwading\nwadis\nwadmaal\nwadmaals\nwadmal\nwadmals\nwadmol\nwadmoll\nwadmolls\nwadmols\nwads\nwady\nwaff\nwaffing\nwaffling\nwaffs\nwaft\nwafting\nwafts\nwag\nwagging\nwaggish\nwaggling\nwaggly\nwaggon\nwaggoning\nwaggons\nwaging\nwagon\nwagoning\nwagons\nwags\nwagtail\nwagtails\nwahconda\nwahcondas\nwahoo\nwahoos\nwaif\nwaifing\nwaifs\nwail\nwailful\nwailing\nwails\nwain\nwains\nwainscot\nwainscoting\nwainscots\nwainscotting\nwair\nwairing\nwairs\nwaist\nwaisting\nwaistings\nwaists\nwait\nwaiting\nwaitings\nwaits\nwaiving\nwakanda\nwakandas\nwakiki\nwakikis\nwaking\nwaling\nwalk\nwalkaway\nwalkaways\nwalking\nwalkings\nwalkout\nwalkouts\nwalks\nwalkup\nwalkups\nwalkway\nwalkways\nwall\nwalla\nwallaby\nwallah\nwallahs\nwallaroo\nwallaroos\nwallas\nwalling\nwallop\nwalloping\nwallops\nwallow\nwallowing\nwallows\nwalls\nwally\nwalnut\nwalnuts\nwalrus\nwaltz\nwaltzing\nwaly\nwambling\nwambly\nwammus\nwampish\nwampishing\nwampum\nwampums\nwampus\nwamus\nwan\nwand\nwands\nwangan\nwangans\nwangling\nwangun\nwanguns\nwanigan\nwanigans\nwaning\nwanion\nwanions\nwanly\nwannigan\nwannigans\nwanning\nwans\nwant\nwanting\nwanton\nwantoning\nwantonly\nwantons\nwants\nwany\nwap\nwapiti\nwapitis\nwapping\nwaps\nwar\nwarbling\nwarcraft\nwarcrafts\nward\nwarding\nwardroom\nwardrooms\nwards\nwardship\nwardships\nwarfarin\nwarfarins\nwarily\nwaring\nwarison\nwarisons\nwark\nwarking\nwarks\nwarlock\nwarlocks\nwarlord\nwarlords\nwarm\nwarming\nwarmish\nwarmly\nwarmouth\nwarmouths\nwarms\nwarmth\nwarmths\nwarmup\nwarmups\nwarn\nwarning\nwarnings\nwarns\nwarp\nwarpath\nwarpaths\nwarping\nwarps\nwarragal\nwarragals\nwarrant\nwarranting\nwarrants\nwarranty\nwarrigal\nwarrigals\nwarring\nwarrior\nwarriors\nwars\nwarsaw\nwarsaws\nwarship\nwarships\nwarsling\nwarstling\nwart\nwarthog\nwarthogs\nwarts\nwarty\nwarwork\nwarworks\nwarworn\nwary\nwas\nwash\nwashboard\nwashboards\nwashbowl\nwashbowls\nwashcloth\nwashcloths\nwashday\nwashdays\nwashing\nwashings\nwashington\nwashout\nwashouts\nwashrag\nwashrags\nwashroom\nwashrooms\nwashtub\nwashtubs\nwashy\nwasp\nwaspily\nwaspish\nwasps\nwaspy\nwassail\nwassailing\nwassails\nwast\nwasting\nwastry\nwasts\nwat\nwatap\nwataps\nwatch\nwatchcry\nwatchdog\nwatchdogging\nwatchdogs\nwatchful\nwatchfully\nwatching\nwatchman\nwatchout\nwatchouts\nwats\nwatt\nwatthour\nwatthours\nwattling\nwatts\nwaucht\nwauchting\nwauchts\nwaugh\nwaught\nwaughting\nwaughts\nwauk\nwauking\nwauks\nwaul\nwauling\nwauls\nwaur\nwavily\nwaving\nwavy\nwaw\nwawl\nwawling\nwawls\nwaws\nwax\nwaxbill\nwaxbills\nwaxily\nwaxing\nwaxings\nwaxplant\nwaxplants\nwaxwing\nwaxwings\nwaxwork\nwaxworks\nwaxworm\nwaxworms\nwaxy\nway\nwaybill\nwaybills\nwayfaring\nwaygoing\nwaygoings\nwaylaid\nwaylay\nwaylaying\nwaylays\nways\nwayward\nwayworn\nwha\nwhack\nwhacking\nwhacks\nwhacky\nwhaling\nwhalings\nwham\nwhamming\nwhammy\nwhams\nwhang\nwhanging\nwhangs\nwhap\nwhapping\nwhaps\nwharf\nwharfing\nwharfs\nwhat\nwhatnot\nwhatnots\nwhats\nwhaup\nwhaups\nwhich\nwhid\nwhidah\nwhidahs\nwhidding\nwhids\nwhiff\nwhiffing\nwhiffling\nwhiffs\nwhiling\nwhilom\nwhilst\nwhim\nwhims\nwhimsical\nwhimsicality\nwhimsically\nwhimsy\nwhin\nwhinchat\nwhinchats\nwhining\nwhinny\nwhinnying\nwhins\nwhiny\nwhip\nwhipcord\nwhipcords\nwhiplash\nwhipping\nwhippings\nwhippoorwill\nwhippoorwills\nwhippy\nwhipray\nwhiprays\nwhips\nwhipsaw\nwhipsawing\nwhipsawn\nwhipsaws\nwhipt\nwhiptail\nwhiptails\nwhipworm\nwhipworms\nwhir\nwhirl\nwhirling\nwhirlpool\nwhirlpools\nwhirls\nwhirlwind\nwhirlwinds\nwhirly\nwhirr\nwhirring\nwhirrs\nwhirry\nwhirrying\nwhirs\nwhish\nwhishing\nwhisht\nwhishting\nwhishts\nwhisk\nwhisking\nwhisks\nwhisky\nwhist\nwhisting\nwhistling\nwhists\nwhit\nwhiting\nwhitings\nwhitish\nwhitlow\nwhitlows\nwhitrack\nwhitracks\nwhits\nwhittling\nwhity\nwhiz\nwhizbang\nwhizbangs\nwhizz\nwhizzing\nwho\nwhoa\nwhoas\nwhodunit\nwhodunits\nwholism\nwholisms\nwholly\nwhom\nwhomp\nwhomping\nwhomps\nwhomso\nwhoop\nwhooping\nwhoopla\nwhooplas\nwhoops\nwhoosh\nwhooshing\nwhoosis\nwhop\nwhopping\nwhops\nwhoring\nwhorish\nwhorl\nwhorls\nwhort\nwhorts\nwhosis\nwhoso\nwhump\nwhumping\nwhumps\nwhy\nwhydah\nwhydahs\nwhys\nwich\nwick\nwicking\nwickings\nwickiup\nwickiups\nwicks\nwickyup\nwickyups\nwicopy\nwiddling\nwiddy\nwidish\nwidow\nwidowhood\nwidowhoods\nwidowing\nwidows\nwidth\nwidths\nwidthway\nwifing\nwig\nwigan\nwigans\nwigging\nwiggings\nwiggling\nwiggly\nwight\nwights\nwigs\nwigwag\nwigwagging\nwigwags\nwigwam\nwigwams\nwikiup\nwikiups\nwilco\nwild\nwildcat\nwildcats\nwildcatting\nwildfowl\nwildfowls\nwilding\nwildings\nwildish\nwildling\nwildlings\nwildly\nwilds\nwildwood\nwildwoods\nwilful\nwilfully\nwilily\nwiling\nwill\nwillful\nwillfully\nwilling\nwillingly\nwilliwau\nwilliwaus\nwilliwaw\nwilliwaws\nwillow\nwillowing\nwillows\nwillowy\nwills\nwilly\nwillyard\nwillyart\nwillying\nwillywaw\nwillywaws\nwilt\nwilting\nwilts\nwily\nwimbling\nwimpling\nwin\nwinch\nwinching\nwincing\nwind\nwindbag\nwindbags\nwindburn\nwindburning\nwindburns\nwindburnt\nwindfall\nwindfalls\nwindflaw\nwindflaws\nwindgall\nwindgalls\nwindigo\nwindigos\nwindily\nwinding\nwindings\nwindlass\nwindlassing\nwindling\nwindlings\nwindmill\nwindmilling\nwindmills\nwindow\nwindowing\nwindows\nwindrow\nwindrowing\nwindrows\nwinds\nwindsock\nwindsocks\nwindup\nwindups\nwindward\nwindwards\nwindway\nwindways\nwindy\nwing\nwingback\nwingbacks\nwingbow\nwingbows\nwingding\nwingdings\nwinging\nwingman\nwings\nwingspan\nwingspans\nwingy\nwining\nwinish\nwink\nwinking\nwinkling\nwinks\nwinning\nwinnings\nwinnock\nwinnocks\nwinnow\nwinnowing\nwinnows\nwino\nwinos\nwins\nwintling\nwintrily\nwintry\nwiny\nwiping\nwirily\nwiring\nwirings\nwirra\nwiry\nwis\nwisdom\nwisdoms\nwish\nwisha\nwishful\nwishing\nwising\nwisp\nwispily\nwisping\nwispish\nwisps\nwispy\nwiss\nwissing\nwist\nwistaria\nwistarias\nwistful\nwistfully\nwisting\nwists\nwit\nwitan\nwitch\nwitchcraft\nwitchcrafts\nwitching\nwitchings\nwitchy\nwith\nwithal\nwithdraw\nwithdrawal\nwithdrawals\nwithdrawing\nwithdrawn\nwithdraws\nwithhold\nwithholding\nwithholds\nwithin\nwithing\nwithins\nwithout\nwithouts\nwithstand\nwithstanding\nwithstands\nwithstood\nwithy\nwiting\nwitling\nwitlings\nwitloof\nwitloofs\nwits\nwitticism\nwitticisms\nwittily\nwitting\nwittingly\nwittings\nwittol\nwittols\nwitty\nwiving\nwiz\nwizard\nwizardly\nwizardry\nwizards\nwo\nwoad\nwoads\nwoadwax\nwoald\nwoalds\nwobbling\nwobbly\nwoful\nwofully\nwok\nwoks\nwold\nwolds\nwolf\nwolffish\nwolfing\nwolfish\nwolfram\nwolframs\nwolfs\nwoman\nwomanhood\nwomanhoods\nwomaning\nwomanish\nwomanising\nwomanizing\nwomankind\nwomankinds\nwomanly\nwomans\nwomb\nwombat\nwombats\nwombs\nwomby\nwomps\nwon\nwondrous\nwondrously\nwonky\nwonning\nwons\nwont\nwonting\nwonton\nwontons\nwonts\nwoo\nwood\nwoodbin\nwoodbind\nwoodbinds\nwoodbins\nwoodbox\nwoodchat\nwoodchats\nwoodchuck\nwoodchucks\nwoodcock\nwoodcocks\nwoodcraft\nwoodcrafts\nwoodcut\nwoodcuts\nwooding\nwoodland\nwoodlands\nwoodlark\nwoodlarks\nwoodlot\nwoodlots\nwoodman\nwoodruff\nwoodruffs\nwoods\nwoodsia\nwoodsias\nwoodsman\nwoodsy\nwoodwax\nwoodwind\nwoodwinds\nwoodwork\nwoodworks\nwoodworm\nwoodworms\nwoody\nwoof\nwoofing\nwoofs\nwooing\nwooingly\nwool\nwoolly\nwoolman\nwoolpack\nwoolpacks\nwools\nwoolsack\nwoolsacks\nwoolskin\nwoolskins\nwooly\nwoops\nwoorali\nwooralis\nwoorari\nwooraris\nwoos\nwoosh\nwooshing\nwoozily\nwoozy\nwop\nwops\nword\nwordbook\nwordbooks\nwordily\nwording\nwordings\nwordplay\nwordplays\nwords\nwordy\nwork\nworkability\nworkaday\nworkbag\nworkbags\nworkboat\nworkboats\nworkbook\nworkbooks\nworkbox\nworkday\nworkdays\nworkfolk\nworking\nworkingman\nworkings\nworkload\nworkloads\nworkman\nworkmanship\nworkmanships\nworkout\nworkouts\nworkroom\nworkrooms\nworks\nworkshop\nworkshops\nworkup\nworkups\nworld\nworldly\nworlds\nworm\nwormil\nwormils\nworming\nwormish\nwormroot\nwormroots\nworms\nwormwood\nwormwoods\nwormy\nworn\nworrit\nworriting\nworrits\nworry\nworrying\nworship\nworshiping\nworshipping\nworships\nworst\nworsting\nworsts\nwort\nworth\nworthful\nworthily\nworthing\nworths\nworthy\nworts\nwos\nwost\nwot\nwots\nwotting\nwould\nwouldst\nwound\nwounding\nwounds\nwow\nwowing\nwows\nwrack\nwrackful\nwracking\nwracks\nwraith\nwraiths\nwrang\nwrangling\nwrangs\nwrap\nwrapping\nwrappings\nwraps\nwrapt\nwrastling\nwrath\nwrathful\nwrathily\nwrathing\nwraths\nwrathy\nwriggling\nwriggly\nwright\nwrights\nwring\nwringing\nwrings\nwrinkling\nwrinkly\nwrist\nwrists\nwristy\nwrit\nwrithing\nwriting\nwritings\nwrits\nwrong\nwrongdoing\nwrongdoings\nwrongful\nwrongfully\nwronging\nwrongly\nwrongs\nwroth\nwrothful\nwrought\nwrung\nwry\nwrying\nwryly\nwud\nwurst\nwursts\nwych\nwyling\nwynd\nwynds\nwynn\nwynns\nwyting\nxanthic\nxanthin\nxanthins\nxanthoma\nxanthomas\nxanthomata\nxanthous\nxi\nxiphoid\nxiphoids\nxis\nxu\nxylan\nxylans\nxylic\nxylidin\nxylidins\nxylocarp\nxylocarps\nxyloid\nxylol\nxylols\nxylophonist\nxylophonists\nxylotomy\nxylyl\nxylyls\nxyst\nxysti\nxystoi\nxystos\nxysts\nxystus\nya\nyacht\nyachting\nyachtings\nyachtman\nyachts\nyack\nyacking\nyacks\nyaff\nyaffing\nyaffs\nyagi\nyagis\nyah\nyahoo\nyahooism\nyahooisms\nyahoos\nyaird\nyairds\nyak\nyakking\nyaks\nyald\nyam\nyams\nyamun\nyamuns\nyang\nyangs\nyank\nyanking\nyanks\nyanqui\nyanquis\nyap\nyapock\nyapocks\nyapok\nyapoks\nyapon\nyapons\nyapping\nyappy\nyaps\nyar\nyard\nyardarm\nyardarms\nyardbird\nyardbirds\nyarding\nyardman\nyards\nyardstick\nyardsticks\nyardwand\nyardwands\nyarn\nyarning\nyarns\nyarrow\nyarrows\nyashmac\nyashmacs\nyashmak\nyashmaks\nyasmak\nyasmaks\nyatagan\nyatagans\nyataghan\nyataghans\nyaud\nyauds\nyauld\nyaup\nyauping\nyaupon\nyaupons\nyaups\nyaw\nyawing\nyawl\nyawling\nyawls\nyawn\nyawning\nyawns\nyawp\nyawping\nyawpings\nyawps\nyaws\nyay\nyid\nyids\nyill\nyills\nyin\nyins\nyip\nyipping\nyips\nyird\nyirds\nyirr\nyirring\nyirrs\nyirth\nyirths\nyod\nyodh\nyodhs\nyodling\nyods\nyoga\nyogas\nyogh\nyoghourt\nyoghourts\nyoghs\nyoghurt\nyoghurts\nyogi\nyogic\nyogin\nyogini\nyoginis\nyogins\nyogis\nyogurt\nyogurts\nyoicks\nyoking\nyolk\nyolks\nyolky\nyom\nyomim\nyon\nyond\nyoni\nyonis\nyou\nyoung\nyoungish\nyoungs\nyoupon\nyoupons\nyour\nyourn\nyours\nyouth\nyouthful\nyouthfully\nyouths\nyow\nyowing\nyowl\nyowling\nyowls\nyows\nyttria\nyttrias\nyttric\nyttrium\nyttriums\nyuan\nyuans\nyucca\nyuccas\nyuga\nyugas\nyuk\nyukking\nyuks\nyulan\nyulans\nyummy\nyup\nyupon\nyupons\nyurt\nyurta\nyurts\nywis\nzacaton\nzacatons\nzaddik\nzaddikim\nzaffar\nzaffars\nzaffir\nzaffirs\nzaftig\nzag\nzagging\nzags\nzaibatsu\nzamarra\nzamarras\nzamarro\nzamarros\nzamia\nzamias\nzamindar\nzamindars\nzanana\nzananas\nzanily\nzany\nzanyish\nzanza\nzanzas\nzap\nzapping\nzaps\nzaptiah\nzaptiahs\nzarf\nzarfs\nzariba\nzaribas\nzastruga\nzastrugi\nzax\nzayin\nzayins\nzig\nzigging\nziggurat\nziggurats\nzigs\nzigzag\nzigzagging\nzigzags\nzikkurat\nzikkurats\nzikurat\nzikurats\nzilch\nzillah\nzillahs\nzillion\nzillions\nzinc\nzincic\nzincify\nzincifying\nzincing\nzincking\nzincky\nzincoid\nzincous\nzincs\nzincy\nzing\nzingani\nzingano\nzingara\nzingari\nzingaro\nzinging\nzings\nzingy\nzinkify\nzinkifying\nzinky\nzinnia\nzinnias\nzip\nzipping\nzippy\nzips\nziram\nzirams\nzircon\nzirconia\nzirconias\nzirconic\nzirconium\nzirconiums\nzircons\nziti\nzitis\nzizith\nzizzling\nzloty\nzlotys\nzoa\nzoaria\nzoarial\nzoarium\nzodiac\nzodiacal\nzodiacs\nzoftig\nzoic\nzombi\nzombiism\nzombiisms\nzombis\nzonal\nzonally\nzonary\nzonation\nzonations\nzoning\nzonula\nzonular\nzonulas\nzoo\nzooid\nzooidal\nzooids\nzooks\nzoolatry\nzoologic\nzoological\nzoologist\nzoologists\nzoology\nzoom\nzoomania\nzoomanias\nzooming\nzoomorph\nzoomorphs\nzooms\nzoon\nzoonal\nzoonosis\nzoonotic\nzoons\nzoos\nzootomic\nzootomy\nzori\nzoril\nzorilla\nzorillas\nzorillo\nzorillos\nzorils\nzounds\nzoysia\nzoysias\nzucchini\nzucchinis\nzygoma\nzygomas\nzygomata\nzygosis\nzygosity\nzygotic\nzymology\nzymosis\nzymotic\nzymurgy\nOut of 113809 words there are 37641 words where the filter applied, which is 33.07%\n"
    }
   ],
   "source": [
    "import itertools\n",
    "\n",
    "def avoids(word, forbidden):\n",
    "    for letter in word:\n",
    "        if letter in forbidden:\n",
    "            return False\n",
    "    return True\n",
    "\n",
    "def get_input(prompt):\n",
    "    string = input(prompt).lower()\n",
    "    if check_input(string):\n",
    "        return string\n",
    "    get_input()\n",
    "\n",
    "def check_input(string):\n",
    "    if len(string) > 5:\n",
    "        print(\"Please only provide 5 letters.\")\n",
    "        return False\n",
    "    for letter in string:\n",
    "        if letter.isnumeric() == True:\n",
    "            print(\"Please only provide letters.\")\n",
    "            return False\n",
    "    return True\n",
    "\n",
    "def forbidden_string_program():\n",
    "    prompt = \"This program will check if it can find a word that do not contain certain letters. Please type up to 5 letters!\\n\"\n",
    "    forbidden_string = get_input(prompt)\n",
    "    filter_word_list(avoids, forbidden_string)\n",
    "\n",
    "forbidden_string_program()"
   ]
  },
  {
   "cell_type": "code",
   "execution_count": 4,
   "metadata": {
    "tags": [
     "outputPrepend"
    ]
   },
   "outputs": [
    {
     "output_type": "stream",
     "name": "stdout",
     "text": "65114 oqrsy 12428 96425 jqwxz\n65115 oqrsz 14394 96425 jqwxz\n65116 oqrtu 16007 96425 jqwxz\n65117 oqrtv 19982 96425 jqwxz\n65118 oqrtw 19665 96425 jqwxz\n65119 oqrtx 20965 96425 jqwxz\n65120 oqrty 18518 96425 jqwxz\n65121 oqrtz 20807 96425 jqwxz\n65122 oqruv 24419 96425 jqwxz\n65123 oqruw 24027 96425 jqwxz\n65124 oqrux 25691 96425 jqwxz\n65125 oqruy 22648 96425 jqwxz\n65126 oqruz 25567 96425 jqwxz\n65127 oqrvw 30536 96425 jqwxz\n65128 oqrvx 32217 96425 jqwxz\n65129 oqrvy 28690 96425 jqwxz\n65130 oqrvz 32083 96425 jqwxz\n65131 oqrwx 31979 96425 jqwxz\n65132 oqrwy 28596 96425 jqwxz\n65133 oqrwz 31863 96425 jqwxz\n65134 oqrxy 30036 96425 jqwxz\n65135 oqrxz 33534 96425 jqwxz\n65136 oqryz 29915 96425 jqwxz\n65137 oqstu 13744 96425 jqwxz\n65138 oqstv 16891 96425 jqwxz\n65139 oqstw 16869 96425 jqwxz\n65140 oqstx 17922 96425 jqwxz\n65141 oqsty 15388 96425 jqwxz\n65142 oqstz 17616 96425 jqwxz\n65143 oqsuv 20194 96425 jqwxz\n65144 oqsuw 20156 96425 jqwxz\n65145 oqsux 21428 96425 jqwxz\n65146 oqsuy 18376 96425 jqwxz\n65147 oqsuz 21240 96425 jqwxz\n65148 oqsvw 25237 96425 jqwxz\n65149 oqsvx 26470 96425 jqwxz\n65150 oqsvy 22884 96425 jqwxz\n65151 oqsvz 26246 96425 jqwxz\n65152 oqswx 26646 96425 jqwxz\n65153 oqswy 23095 96425 jqwxz\n65154 oqswz 26424 96425 jqwxz\n65155 oqsxy 24136 96425 jqwxz\n65156 oqsxz 27672 96425 jqwxz\n65157 oqsyz 23920 96425 jqwxz\n65158 oqtuv 27586 96425 jqwxz\n65159 oqtuw 27301 96425 jqwxz\n65160 oqtux 29580 96425 jqwxz\n65161 oqtuy 26086 96425 jqwxz\n65162 oqtuz 29203 96425 jqwxz\n65163 oqtvw 34377 96425 jqwxz\n65164 oqtvx 36652 96425 jqwxz\n65165 oqtvy 32631 96425 jqwxz\n65166 oqtvz 36206 96425 jqwxz\n65167 oqtwx 36618 96425 jqwxz\n65168 oqtwy 32750 96425 jqwxz\n65169 oqtwz 36166 96425 jqwxz\n65170 oqtxy 34763 96425 jqwxz\n65171 oqtxz 38488 96425 jqwxz\n65172 oqtyz 34334 96425 jqwxz\n65173 oquvw 42403 96425 jqwxz\n65174 oquvx 45375 96425 jqwxz\n65175 oquvy 40428 96425 jqwxz\n65176 oquvz 45007 96425 jqwxz\n65177 oquwx 45162 96425 jqwxz\n65178 oquwy 40372 96425 jqwxz\n65179 oquwz 44814 96425 jqwxz\n65180 oquxy 43030 96425 jqwxz\n65181 oquxz 47828 96425 jqwxz\n65182 oquyz 42687 96425 jqwxz\n65183 oqvwx 57114 96425 jqwxz\n65184 oqvwy 51484 96425 jqwxz\n65185 oqvwz 56716 96425 jqwxz\n65186 oqvxy 54091 96425 jqwxz\n65187 oqvxz 59682 96425 jqwxz\n65188 oqvyz 53698 96425 jqwxz\n65189 oqwxy 54415 96425 jqwxz\n65190 oqwxz 59893 96425 jqwxz\n65191 oqwyz 54036 96425 jqwxz\n65192 oqxyz 56662 96425 jqwxz\n65193 orstu 7035 96425 jqwxz\n65194 orstv 8947 96425 jqwxz\n65195 orstw 8797 96425 jqwxz\n65196 orstx 9339 96425 jqwxz\n65197 orsty 7953 96425 jqwxz\n65198 orstz 9207 96425 jqwxz\n65199 orsuv 10195 96425 jqwxz\n65200 orsuw 10033 96425 jqwxz\n65201 orsux 10702 96425 jqwxz\n65202 orsuy 9060 96425 jqwxz\n65203 orsuz 10623 96425 jqwxz\n65204 orsvw 13031 96425 jqwxz\n65205 orsvx 13689 96425 jqwxz\n65206 orsvy 11701 96425 jqwxz\n65207 orsvz 13571 96425 jqwxz\n65208 orswx 13627 96425 jqwxz\n65209 orswy 11691 96425 jqwxz\n65210 orswz 13514 96425 jqwxz\n65211 orsxy 12218 96425 jqwxz\n65212 orsxz 14163 96425 jqwxz\n65213 orsyz 12110 96425 jqwxz\n65214 ortuv 14699 96425 jqwxz\n65215 ortuw 14281 96425 jqwxz\n65216 ortux 15518 96425 jqwxz\n65217 ortuy 13514 96425 jqwxz\n65218 ortuz 15387 96425 jqwxz\n65219 ortvw 18595 96425 jqwxz\n65220 ortvx 19864 96425 jqwxz\n65221 ortvy 17487 96425 jqwxz\n65222 ortvz 19690 96425 jqwxz\n65223 ortwx 19539 96425 jqwxz\n65224 ortwy 17320 96425 jqwxz\n65225 ortwz 19371 96425 jqwxz\n65226 ortxy 18385 96425 jqwxz\n65227 ortxz 20643 96425 jqwxz\n65228 ortyz 18226 96425 jqwxz\n65229 oruvw 22064 96425 jqwxz\n65230 oruvx 23684 96425 jqwxz\n65231 oruvy 20832 96425 jqwxz\n65232 oruvz 23555 96425 jqwxz\n65233 oruwx 23290 96425 jqwxz\n65234 oruwy 20571 96425 jqwxz\n65235 oruwz 23171 96425 jqwxz\n65236 oruxy 21980 96425 jqwxz\n65237 oruxz 24799 96425 jqwxz\n65238 oruyz 21860 96425 jqwxz\n65239 orvwx 30378 96425 jqwxz\n65240 orvwy 27106 96425 jqwxz\n65241 orvwz 30224 96425 jqwxz\n65242 orvxy 28522 96425 jqwxz\n65243 orvxz 31867 96425 jqwxz\n65244 orvyz 28371 96425 jqwxz\n65245 orwxy 28423 96425 jqwxz\n65246 orwxz 31639 96425 jqwxz\n65247 orwyz 28284 96425 jqwxz\n65248 orxyz 29689 96425 jqwxz\n65249 ostuv12500 96425 jqwxz\n65250 ostuw 12355 96425 jqwxz\n65251 ostux 13364 96425 jqwxz\n65252 ostuy 11329 96425 jqwxz\n65253 ostuz 13125 96425 jqwxz\n65254 ostvw 15749 96425 jqwxz\n65255 ostvx 16748 96425 jqwxz\n65256 ostvy 14340 96425 jqwxz\n65257 ostvz 16449 96425 jqwxz\n65258 ostwx 16736 96425 jqwxz\n65259 ostwy 14388 96425 jqwxz\n65260 ostwz 16424 96425 jqwxz\n65261 ostxy 15238 96425 jqwxz\n65262 ostxz 17451 96425 jqwxz\n65263 ostyz 14966 96425 jqwxz\n65264 osuvw 18363 96425 jqwxz\n65265 osuvx 19581 96425 jqwxz\n65266 osuvy 16775 96425 jqwxz\n65267 osuvz 19398 96425 jqwxz\n65268 osuwx 19535 96425 jqwxz\n65269 osuwy 16774 96425 jqwxz\n65270 osuwz 19353 96425 jqwxz\n65271 osuxy 17819 96425 jqwxz\n65272 osuxz 20597 96425 jqwxz\n65273 osuyz 17645 96425 jqwxz\n65274 osvwx 25008 96425 jqwxz\n65275 osvwy 21642 96425 jqwxz\n65276 osvwz 24767 96425 jqwxz\n65277 osvxy 22645 96425 jqwxz\n65278 osvxz 25966 96425 jqwxz\n65279 osvyz 22415 96425 jqwxz\n65280 oswxy 22852 96425 jqwxz\n65281 oswxz 26142 96425 jqwxz\n65282 oswyz 22619 96425 jqwxz\n65283 osxyz 23632 96425 jqwxz\n65284 otuvw 24761 96425 jqwxz\n65285 otuvx 26943 96425 jqwxz\n65286 otuvy 23678 96425 jqwxz\n65287 otuvz 26569 96425 jqwxz\n65288 otuwx 26659 96425 jqwxz\n65289 otuwy 23554 96425 jqwxz\n65290 otuwz 26287 96425 jqwxz\n65291 otuxy 25500 96425 jqwxz\n65292 otuxz 28525 96425 jqwxz\n65293 otuyz 25152 96425 jqwxz\n65294 otvwx 34349 96425 jqwxz\n65295 otvwy 30654 96425 jqwxz\n65296 otvwz 33891 96425 jqwxz\n65297 otvxy 32588 96425 jqwxz\n65298 otvxz 36124 96425 jqwxz\n65299 otvyz 32161 96425 jqwxz\n65300 otwxy 32713 96425 jqwxz\n65301 otwxz 36089 96425 jqwxz\n65302 otwyz 32273 96425 jqwxz\n65303 otxyz 34249 96425 jqwxz\n65304 ouvwx 41335 96425 jqwxz\n65305 ouvwy 36882 96425 jqwxz\n65306 ouvwz 40977 96425 jqwxz\n65307 ouvxy 39456 96425 jqwxz\n65308 ouvxz 43895 96425 jqwxz\n65309 ouvyz 39112 96425 jqwxz\n65310 ouwxy 39380 96425 jqwxz\n65311 ouwxz 43682 96425 jqwxz\n65312 ouwyz 39050 96425 jqwxz\n65313 ouxyz 41660 96425 jqwxz\n65314 ovwxy 51375 96425 jqwxz\n65315 ovwxz 56518 96425 jqwxz\n65316 ovwyz 50951 96425 jqwxz\n65317 ovxyz 53507 96425 jqwxz\n65318 owxyz 53833 96425 jqwxz\n65319 pqrst 12044 96425 jqwxz\n65320 pqrsu 15060 96425 jqwxz\n65321 pqrsv 17998 96425 jqwxz\n65322 pqrsw 17950 96425 jqwxz\n65323 pqrsx 19029 96425 jqwxz\n65324 pqrsy 16514 96425 jqwxz\n65325 pqrsz 18793 96425 jqwxz\n65326 pqrtu 21022 96425 jqwxz\n65327 pqrtv 25177 96425 jqwxz\n65328 pqrtw 24633 96425 jqwxz\n65329 pqrtx 26628 96425 jqwxz\n65330 pqrty 23599 96425 jqwxz\n65331 pqrtz 26260 96425 jqwxz\n65332 pqruv 32231 96425 jqwxz\n65333 pqruw 31657 96425 jqwxz\n65334 pqrux 34111 96425 jqwxz\n65335 pqruy 30373 96425 jqwxz\n65336 pqruz 33758 96425 jqwxz\n65337 pqrvw 39309 96425 jqwxz\n65338 pqrvx 41820 96425 jqwxz\n65339 pqrvy 37588 96425 jqwxz\n65340 pqrvz 41512 96425 jqwxz\n65341 pqrwx 41505 96425 jqwxz\n65342 pqrwy 37428 96425 jqwxz\n65343 pqrwz 41196 96425 jqwxz\n65344 pqrxy 39661 96425 jqwxz\n65345 pqrxz 43720 96425 jqwxz\n65346 pqryz 39378 96425 jqwxz\n65347 pqstu 18474 96425 jqwxz\n65348 pqstv 21228 96425 jqwxz\n65349 pqstw 21078 96425 jqwxz\n65350 pqstx 23004 96425 jqwxz\n65351 pqsty 19871 96425 jqwxz\n65352 pqstz 22417 96425 jqwxz\n65353 pqsuv 26776 96425 jqwxz\n65354 pqsuw 26807 96425 jqwxz\n65355 pqsux 29015 96425 jqwxz\n65356 pqsuy 25170 96425 jqwxz\n65357 pqsuz 28506 96425 jqwxz\n65358 pqsvw 32041 96425 jqwxz\n65359 pqsvx 34289 96425 jqwxz\n65360 pqsvy 29935 96425 jqwxz\n65361 pqsvz 33774 96425 jqwxz\n65362 pqswx 34560 96425 jqwxz\n65363 pqswy 30278 96425 jqwxz\n65364 pqswz 34038 96425 jqwxz\n65365 pqsxy 32307 96425 jqwxz\n65366 pqsxz 36362 96425 jqwxz\n65367 pqsyz 31798 96425 jqwxz\n65368 pqtuv 35657 96425 jqwxz\n65369 pqtuw 34927 96425 jqwxz\n65370 pqtux 38858 96425 jqwxz\n65371 pqtuy 34478 96425 jqwxz\n65372 pqtuz 38013 96425 jqwxz\n65373 pqtvw 42131 96425 jqwxz\n65374 pqtvx 45993 96425 jqwxz\n65375 pqtvy 41130 96425 jqwxz\n65376 pqtvz 45156 96425 jqwxz\n65377 pqtwx 45714 96425 jqwxz\n65378 pqtwy 41009 96425 jqwxz\n65379 pqtwz 44829 96425 jqwxz\n65380 pqtxy 44607 96425 jqwxz\n65381 pqtxz 48875 96425 jqwxz\n65382 pqtyz 43796 96425 jqwxz\n65383 pquvw 54582 96425 jqwxz\n65384 pquvx 59384 96425 jqwxz\n65385 pquvy 53327 96425 jqwxz\n65386 pquvz 58545 96425 jqwxz\n65387 pquwx 59078 96425 jqwxz\n65388 pquwy 53246 96425 jqwxz\n65389 pquwz 58242 96425 jqwxz\n65390 pquxy 57713 96425 jqwxz\n65391 pquxz 63192 96425 jqwxz\n65392 pquyz 56932 96425 jqwxz\n65393 pqvwx 72675 96425 jqwxz\n65394 pqvwy 65878 96425 jqwxz\n65395 pqvwz 71853 96425 jqwxz\n65396 pqvxy 70442 96425 jqwxz\n65397 pqvxz 76915 96425 jqwxz\n65398 pqvyz 69676 96425 jqwxz\n65399 pqwxy 70887 96425 jqwxz\n65400 pqwxz 77183 96425 jqwxz\n65401 pqwyz 70106 96425 jqwxz\n65402 pqxyz 74795 96425 jqwxz\n65403 prstu 9431 96425 jqwxz\n65404 prstv 11185 96425 jqwxz\n65405 prstw 10927 96425 jqwxz\n65406 prstx 11806 96425 jqwxz\n65407 prsty 10076 96425 jqwxz\n65408 prstz 11544 96425 jqwxz\n65409 prsuv 13650 96425 jqwxz\n65410 prsuw 13474 96425 jqwxz\n65411 prsux 14498 96425 jqwxz\n65412 prsuy 12413 96425 jqwxz\n65413 prsuz 14271 96425 jqwxz\n65414 prsvw 16639 96425 jqwxz\n65415 prsvx 17684 96425 jqwxz\n65416 prsvy 15304 96425 jqwxz\n65417 prsvz 17448 96425 jqwxz\n65418 prswx 17633 96425 jqwxz\n65419 prswy 15321 96425 jqwxz\n65420 prswz 17401 96425 jqwxz\n65421 prsxy 16206 96425 jqwxz\n65422 prsxz 18446 96425 jqwxz\n65423 prsyz 15980 96425 jqwxz\n65424 prtuv 19182 96425 jqwxz\n65425 prtuw 18444 96425 jqwxz\n65426 prtux 20375 96425 jqwxz\n65427 prtuy 17819 96425 jqwxz\n65428 prtuz 20020 96425 jqwxz\n65429 prtvw 23002 96425 jqwxz\n65430 prtvx 24925 96425 jqwxz\n65431 prtvy 22031 96425 jqwxz\n65432 prtvz 24556 96425 jqwxz\n65433 prtwx 24384 96425 jqwxz\n65434 prtwy 21666 96425 jqwxz\n65435 prtwz 24010 96425 jqwxz\n65436 prtxy 23346 96425 jqwxz\n65437 prtxz 25966 96425 jqwxz\n65438 prtyz 23020 96425 jqwxz\n65439 pruvw 28826 96425 jqwxz\n65440 pruvx 31205 96425 jqwxz\n65441 pruvy 27726 96425 jqwxz\n65442 pruvz 30869 96425 jqwxz\n65443 pruwx 30629 96425 jqwxz\n65444 pruwy 27311 96425 jqwxz\n65445 pruwz 30289 96425 jqwxz\n65446 pruxy 29441 96425 jqwxz\n65447 pruxz 32696 96425 jqwxz\n65448 pruyz 29124 96425 jqwxz\n65449 prvwx 38954 96425 jqwxz\n65450 prvwy 35066 96425 jqwxz\n65451 prvwz 38631 96425 jqwxz\n65452 prvxy 37237 96425 jqwxz\n65453 prvxz 41092 96425 jqwxz\n65454 prvyz 36952 96425 jqwxz\n65455 prwxy 37082 96425 jqwxz\n65456 prwxz 40778 96425 jqwxz\n65457 prwyz 36786 96425 jqwxz\n65458 prxyz 38972 96425 jqwxz\n65459 pstuv 16484 96425 jqwxz\n65460 pstuw 16158 96425 jqwxz\n65461 pstux 18002 96425 jqwxz\n65462 pstuy 15350 96425 jqwxz\n65463 pstuz 17470 96425 jqwxz\n65464 pstvw 19217 96425 jqwxz\n65465 pstvx 21005 96425 jqwxz\n65466 pstvy 18078 96425 jqwxz\n65467 pstvz 20451 96425 jqwxz\n65468 pstwx 20867 96425 jqwxz\n65469 pstwy 18030 96425 jqwxz\n65470 pstwz 20286 96425 jqwxz\n65471 pstxy 19655 96425 jqwxz\n65472 pstxz 22177 96425 jqwxz\n65473 pstyz 19123 96425 jqwxz\n65474 psuvw 23898 96425 jqwxz\n65475 psuvx 25986 96425 jqwxz\n65476 psuvy 22462 96425 jqwxz\n65477 psuvz 25499 96425 jqwxz\n65478 psuwx 25980 96425 jqwxz\n65479 psuwy 22544 96425 jqwxz\n65480 psuwz 25489 96425 jqwxz\n65481 psuxy 24436 96425 jqwxz\n65482 psuxz 27661 96425 jqwxz\n65483 psuyz 23959 96425 jqwxz\n65484 psvwx 31672 96425 jqwxz\n65485 psvwy 27658 96425 jqwxz\n65486 psvwz 31153 96425 jqwxz\n65487 psvxy 29577 96425 jqwxz\n65488 psvxz 33357 96425 jqwxz\n65489 psvyz 29079 96425 jqwxz\n65490 pswxy 29899 96425 jqwxz\n65491 pswxz 33600 96425 jqwxz\n65492 pswyz 29382 96425 jqwxz\n65493 psxyz 31377 96425 jqwxz\n65494 ptuvw 31156 96425 jqwxz\n65495 ptuvx 34849 96425 jqwxz\n65496 ptuvy 30807 96425 jqwxz\n65497 ptuvz 34055 96425 jqwxz\n65498 ptuwx 34126 96425 jqwxz\n65499 ptuwy 30279 96425 jqwxz\n65500 ptuwz 33291 96425 jqwxz\n65501 ptuxy 33736 96425 jqwxz\n65502 ptuxz 37175 96425 jqwxz\n65503 ptuyz 32977 96425 jqwxz\n65504 ptvwx 41992 96425 jqwxz\n65505 ptvwy 37600 96425 jqwxz\n65506 ptvwz 41144 96425 jqwxz\n65507 ptvxy 40978 96425 jqwxz\n65508 ptvxz 44958 96425 jqwxz\n65509 ptvyz 40210 96425 jqwxz\n65510 ptwxy 40876 96425 jqwxz\n65511 ptwxz 44649 96425 jqwxz\n65512 ptwyz 40051 96425 jqwxz\n65513 ptxyz 43608 96425 jqwxz\n65514 puvwx 53163 96425 jqwxz\n65515 puvwy 47757 96425 jqwxz\n65516 puvwz 52340 96425 jqwxz\n65517 puvxy 52026 96425 jqwxz\n65518 puvxz 57081 96425 jqwxz\n65519 puvyz 51268 96425 jqwxz\n65520 puwxy 51891 96425 jqwxz\n65521 puwxz 56720 96425 jqwxz\n65522 puwyz 51125 96425 jqwxz\n65523 puxyz 55539 96425 jqwxz\n65524 pvwxy 65579 96425 jqwxz\n65525 pvwxz 71442 96425 jqwxz\n65526 pvwyz 64782 96425 jqwxz\n65527 pvxyz 69286 96425 jqwxz\n65528 pwxyz 69680 96425 jqwxz\n65529 qrstu 11543 96425 jqwxz\n65530 qrstv 13718 96425 jqwxz\n65531 qrstw 13362 96425 jqwxz\n65532 qrstx 14289 96425 jqwxz\n65533 qrsty 12196 96425 jqwxz\n65534 qrstz 14077 96425 jqwxz\n65535 qrsuv 16986 96425 jqwxz\n65536 qrsuw 16735 96425 jqwxz\n65537 qrsux 17766 96425 jqwxz\n65538 qrsuy 15153 96425 jqwxz\n65539 qrsuz 17586 96425 jqwxz\n65540 qrsvw 20460 96425 jqwxz\n65541 qrsvx 21530 96425 jqwxz\n65542 qrsvy 18567 96425 jqwxz\n65543 qrsvz 21344 96425 jqwxz\n65544 qrswx 21379 96425 jqwxz\n65545 qrswy 18494 96425 jqwxz\n65546 qrswz 21193 96425 jqwxz\n65547 qrsxy 19412 96425 jqwxz\n65548 qrsxz 22263 96425 jqwxz\n65549 qrsyz 19218 96425 jqwxz\n65550 qrtuv 24350 96425 jqwxz\n65551 qrtuw 23398 96425 jqwxz\n65552 qrtux 25457 96425 jqwxz\n65553 qrtuy 22224 96425 jqwxz\n65554 qrtuz 25210 96425 jqwxz\n65555 qrtvw 28774 96425 jqwxz\n65556 qrtvx 30867 96425 jqwxz\n65557 qrtvy 27223 96425 jqwxz\n65558 qrtvz 30621 96425 jqwxz\n65559 qrtwx 30077 96425 jqwxz\n65560 qrtwy 26641 96425 jqwxz\n65561 qrtwz 29827 96425 jqwxz\n65562 qrtxy 28477 96425 jqwxz\n65563 qrtxz 31942 96425 jqwxz\n65564 qrtyz 28252 96425 jqwxz\n65565 qruvw 36895 96425 jqwxz\n65566 qruvx 39384 96425 jqwxz\n65567 qruvy 34817 96425 jqwxz\n65568 qruvz 39150 96425 jqwxz\n65569 qruwx 38591 96425 jqwxz\n65570 qruwy 34210 96425 jqwxz\n65571 qruwz 38354 96425 jqwxz\n65572 qruxy 36451 96425 jqwxz\n65573 qruxz 40860 96425 jqwxz\n65574 qruyz 36218 96425 jqwxz\n65575 qrvwx 48212 96425 jqwxz\n65576 qrvwy 43158 96425 jqwxz\n65577 qrvwz 48012 96425 jqwxz\n65578 qrvxy 45480 96425 jqwxz\n65579 qrvxz 50615 96425 jqwxz\n65580 qrvyz 45299 96425 jqwxz\n65581 qrwxy 45078 96425 jqwxz\n65582 qrwxz 50025 96425 jqwxz\n65583 qrwyz 44884 96425 jqwxz\n65584 qrxyz 47213 96425 jqwxz\n65585 qstuv 20559 96425 jqwxz\n65586 qstuw 20213 96425 jqwxz\n65587 qstux 22136 96425 jqwxz\n65588 qstuy 18912 96425 jqwxz\n65589 qstuz 21665 96425 jqwxz\n65590 qstvw 23911 96425 jqwxz\n65591 qstvx 25805 96425 jqwxz\n65592 qstvy 22240 96425 jqwxz\n65593 qstvz 25307 96425 jqwxz\n65594 qstwx 25637 96425 jqwxz\n65595 qstwy 22168 96425 jqwxz\n65596 qstwz 25106 96425 jqwxz\n65597 qstxy 23904 96425 jqwxz\n65598 qstxz 27103 96425 jqwxz\n65599 qstyz 23404 96425 jqwxz\n65600 qsuvw 30444 96425 jqwxz\n65601 qsuvx 32569 96425 jqwxz\n65602 qsuvy 28085 96425 jqwxz\n65603 qsuvz 32169 96425 jqwxz\n65604 qsuwx 32618 96425 jqwxz\n65605 qsuwy 28215 96425 jqwxz\n65606 qsuwz 32212 96425 jqwxz\n65607 qsuxy 30160 96425 jqwxz\n65608 qsuxz 34418 96425 jqwxz\n65609 qsuyz 29740 96425 jqwxz\n65610 qsvwx 39286 96425 jqwxz\n65611 qsvwy 34208 96425 jqwxz\n65612 qsvwz 38854 96425 jqwxz\n65613 qsvxy 36211 96425 jqwxz\n65614 qsvxz 41126 96425 jqwxz\n65615 qsvyz 35771 96425 jqwxz\n65616 qswxy 36565 96425 jqwxz\n65617 qswxz 41403 96425 jqwxz\n65618 qswyz 36098 96425 jqwxz\n65619 qsxyz 38175 96425 jqwxz\n65620 qtuvw 40551 96425 jqwxz\n65621 qtuvx 44537 96425 jqwxz\n65622 qtuvy 39386 96425 jqwxz\n65623 qtuvz 43860 96425 jqwxz\n65624 qtuwx 43721 96425 jqwxz\n65625 qtuwy 38797 96425 jqwxz\n65626 qtuwz 43009 96425 jqwxz\n65627 qtuxy 42534 96425 jqwxz\n65628 qtuxz 47164 96425 jqwxz\n65629 qtuyz 41862 96425 jqwxz\n65630 qtvwx 53089 96425 jqwxz\n65631 qtvwy 47482 96425 jqwxz\n65632 qtvwz 52365 96425 jqwxz\n65633 qtvxy 51193 96425 jqwxz\n65634 qtvxz 56508 96425 jqwxz\n65635 qtvyz 50513 96425 jqwxz\n65636 qtwxy 51024 96425 jqwxz\n65637 qtwxz 56106 96425 jqwxz\n65638 qtwyz 50286 96425 jqwxz\n65639 qtxyz 54157 96425 jqwxz\n65640 quvwx 68716 96425 jqwxz\n65641 quvwy 61551 96425 jqwxz\n65642 quvwz 68041 96425 jqwxz\n65643 quvxy 66087 96425 jqwxz\n65644 quvxz 73027 96425 jqwxz\n65645 quvyz 65438 96425 jqwxz\n65646 quwxy 65984 96425 jqwxz\n65647 quwxz 72693 96425 jqwxz\n65648 quwyz 65329 96425 jqwxz\n65649 quxyz 69988 96425 jqwxz\n65650 qvwxy 81995 96425 jqwxz\n65651 qvwxz 89953 96425 jqwxz\n65652 qvwyz 81326 96425 jqwxz\n65653 qvxyz 86133 96425 jqwxz\n65654 qwxyz 86539 96425 jqwxz\n65655 rstuv 10627 96425 jqwxz\n65656 rstuw 10212 96425 jqwxz\n65657 rstux 11094 96425 jqwxz\n65658 rstuy 9325 96425 jqwxz\n65659 rstuz 10914 96425 jqwxz\n65660 rstvw 12524 96425 jqwxz\n65661 rstvx 13413 96425 jqwxz\n65662 rstvy 11406 96425 jqwxz\n65663 rstvz 13205 96425 jqwxz\n65664 rstwx 13061 96425 jqwxz\n65665 rstwy 11158 96425 jqwxz\n65666 rstwz 12850 96425 jqwxz\n65667 rstxy 11910 96425 jqwxz\n65668 rstxz 13751 96425 jqwxz\n65669 rstyz 11713 96425 jqwxz\n65670 rsuvw 15314 96425 jqwxz\n65671 rsuvx 16310 96425 jqwxz\n65672 rsuvy 13882 96425 jqwxz\n65673 rsuvz 16142 96425 jqwxz\n65674 rsuwx 16057 96425 jqwxz\n65675 rsuwy 13704 96425 jqwxz\n65676 rsuwz 15886 96425 jqwxz\n65677 rsuxy 14565 96425 jqwxz\n65678 rsuxz 16890 96425 jqwxz\n65679 rsuyz 14381 96425 jqwxz\n65680 rsvwx 20040 96425 jqwxz\n65681 rsvwy 17284 96425 jqwxz\n65682 rsvwz 19850 96425 jqwxz\n65683 rsvxy 18173 96425 jqwxz\n65684 rsvxz 20889 96425 jqwxz\n65685 rsvyz 17984 96425 jqwxz\n65686 rswxy 18103 96425 jqwxz\n65687 rswxz 20739 96425 jqwxz\n65688 rswyz 17905 96425 jqwxz\n65689 rsxyz 18796 96425 jqwxz\n65690 rtuvw 21542 96425 jqwxz\n65691 rtuvx 23537 96425 jqwxz\n65692 rtuvy 20477 96425 jqwxz\n65693 rtuvz 23292 96425 jqwxz\n65694 rtuwx 22593 96425 jqwxz\n65695 rtuwy 19739 96425 jqwxz\n65696 rtuwz 22346 96425 jqwxz\n65697 rtuxy 21497 96425 jqwxz\n65698 rtuxz 24369 96425 jqwxz\n65699 rtuyz 21274 96425 jqwxz\n65700 rtvwx 28381 96425 jqwxz\n65701 rtvwy 25067 96425 jqwxz\n65702 rtvwz 28115 96425 jqwxz\n65703 rtvxy 26845 96425 jqwxz\n65704 rtvxz 30173 96425 jqwxz\n65705 rtvyz 26616 96425 jqwxz\n65706 rtwxy 26271 96425 jqwxz\n65707 rtwxz 29381 96425 jqwxz\n65708 rtwyz 26026 96425 jqwxz\n65709 rtxyz 27830 96425 jqwxz\n65710 ruvwx 35637 96425 jqwxz\n65711 ruvwy 31509 96425 jqwxz\n65712 ruvwz 35400 96425 jqwxz\n65713 ruvxy 33688 96425 jqwxz\n65714 ruvxz 37846 96425 jqwxz\n65715 ruvyz 33469 96425 jqwxz\n65716 ruwxy 33085 96425 jqwxz\n65717 ruwxz 37047 96425 jqwxz\n65718 ruwyz 32851 96425 jqwxz\n65719 ruxyz 35051 96425 jqwxz\n65720 rvwxy 42627 96425 jqwxz\n65721 rvwxz 47364 96425 jqwxz\n65722 rvwyz 42417 96425 jqwxz\n65723 rvxyz 44696 96425 jqwxz\n65724 rwxyz 44288 96425 jqwxz\n65725 stuvw 18165 96425 jqwxz\n65726 stuvx 19955 96425 jqwxz\n65727 stuvy 16980 96425 jqwxz\n65728 stuvz 19518 96425 jqwxz\n65729 stuwx 19607 96425 jqwxz\n65730 stuwy 16732 96425 jqwxz\n65731 stuwz 19145 96425 jqwxz\n65732 stuxy 18380 96425 jqwxz\n65733 stuxz 21039 96425 jqwxz\n65734 stuyz 17947 96425 jqwxz\n65735 stvwx 23575 96425 jqwxz\n65736 stvwy 20313 96425 jqwxz\n65737 stvwz 23077 96425 jqwxz\n65738 stvxy 21924 96425 jqwxz\n65739 stvxz 24938 96425 jqwxz\n65740 stvyz 21462 96425 jqwxz\n65741 stwxy 21861 96425 jqwxz\n65742 stwxz 24747 96425 jqwxz\n65743 stwyz 21357 96425 jqwxz\n65744 stxyz 23068 96425 jqwxz\n65745 suvwx 29429 96425 jqwxz\n65746 suvwy 25363 96425 jqwxz\n65747 suvwz 29040 96425 jqwxz\n65748 suvxy 27200 96425 jqwxz\n65749 suvxz 31130 96425 jqwxz\n65750 suvyz 26806 96425 jqwxz\n65751 suwxy 27293 96425 jqwxz\n65752 suwxz 31132 96425 jqwxz\n65753 suwyz 26881 96425 jqwxz\n65754 suxyz 28799 96425 jqwxz\n65755 svwxy 33690 96425 jqwxz\n65756 svwxz 38232 96425 jqwxz\n65757 svwyz 33235 96425 jqwxz\n65758 svxyz 35205 96425 jqwxz\n65759 swxyz 35507 96425 jqwxz\n65760 tuvwx 39488 96425 jqwxz\n65761 tuvwy 34895 96425 jqwxz\n65762 tuvwz 38807 96425 jqwxz\n65763 tuvxy 38427 96425 jqwxz\n65764 tuvxz 42748 96425 jqwxz\n65765 tuvyz 37794 96425 jqwxz\n65766 tuwxy 37833 96425 jqwxz\n65767 tuwxz 41888 96425 jqwxz\n65768 tuwyz 37156 96425 jqwxz\n65769 tuxyz 40854 96425 jqwxz\n65770 tvwxy 47131 96425 jqwxz\n65771 tvwxz 51911 96425 jqwxz\n65772 tvwyz 46425 96425 jqwxz\n65773 tvxyz 50097 96425 jqwxz\n65774 twxyz 49872 96425 jqwxz\n65775 uvwxy 59898 96425 jqwxz\n65776 uvwxz 66140 96425 jqwxz\n65777 uvwyz 59250 96425 jqwxz\n65778 uvxyz 63733 96425 jqwxz\n65779 uwxyz 63553 96425 jqwxz\n65780 vwxyz 80593 96425 jqwxz\n"
    }
   ],
   "source": [
    "def combination_of_letters():\n",
    "    list_of_combinations = itertools.combinations('abcdefghijklmnopqrstuvwxyz', 5)\n",
    "    maximum_returned_number = 0\n",
    "    counter = 0\n",
    "    for combination in list_of_combinations:\n",
    "        string = combination[0] + combination[1] + combination[2] + combination[3] + combination[4]\n",
    "        string_returned_words = get_amount_of_words_avoiding(string)\n",
    "        if string_returned_words > maximum_returned_number:\n",
    "            maximum_returned_number = string_returned_words\n",
    "            maximum_returned_string = string\n",
    "        counter += 1\n",
    "        print(counter, string, string_returned_words, maximum_returned_number, maximum_returned_string)\n",
    "\n",
    "def get_amount_of_words_avoiding(string):\n",
    "    avoided_counter = 0\n",
    "    word_list = open('words.txt')\n",
    "    for line in word_list:\n",
    "        word = line.strip()\n",
    "        if avoids(word, string):\n",
    "            avoided_counter += 1\n",
    "    return avoided_counter\n",
    "    \n",
    "combination_of_letters()"
   ]
  },
  {
   "cell_type": "markdown",
   "metadata": {},
   "source": [
    "### How do we know we have checked all combinations? \n",
    "Combinatorics gives us the number of combinations $C$ from $k$-combinations of a given set $S$ of $n$ elements. It is <br>\n",
    "$$\n",
    "C(n,k) = \\binom{n}{k} = \\frac{n!}{k!(n-k)!}\n",
    "$$\n",
    "Since we have 26 letters in the English alphabet and we are picking 5 letters, we get <br>\n",
    "$$\n",
    "C(26,6) = \\frac{26!}{5!(26-5)!} = 65,780\n",
    "$$"
   ]
  },
  {
   "cell_type": "markdown",
   "metadata": {},
   "source": [
    "***"
   ]
  },
  {
   "cell_type": "markdown",
   "metadata": {},
   "source": [
    "### Exercise 9.4\n",
    "\n",
    "Write a function named `uses_only` that takes a word and a string of letters, and that returns `True` if the word contains only letters in the list. Can you make a sentence using only the letters `acefhlo`? Other than \"Hoe alfalfa\"?"
   ]
  },
  {
   "cell_type": "code",
   "execution_count": 5,
   "metadata": {},
   "outputs": [],
   "source": [
    "def uses_only(word, available):\n",
    "    for letter in word:\n",
    "        if letter not in available:\n",
    "            return False\n",
    "    return True"
   ]
  },
  {
   "cell_type": "code",
   "execution_count": 6,
   "metadata": {
    "tags": []
   },
   "outputs": [
    {
     "output_type": "stream",
     "name": "stdout",
     "text": "aa\naah\naal\nace\nache\nachoo\nae\naff\nah\naha\nahchoo\nala\nalae\nalcohol\nale\nalec\nalee\nalef\nalfa\nalfalfa\nall\nallele\nallheal\naloe\naloha\naloof\ncacao\ncache\ncaeca\ncaecal\ncafe\ncaleche\ncalf\ncall\ncalla\nceca\ncecal\ncee\ncell\ncella\ncellae\ncello\nchafe\nchaff\nchalah\nchaleh\nchallah\nchef\nchela\nchelae\ncholla\nclach\nclef\ncloaca\ncloacae\ncloacal\ncloche\ncoach\ncoal\ncoala\ncoalhole\ncoca\ncoccal\ncochlea\ncochleae\ncoco\ncocoa\ncoff\ncoffee\ncoffle\ncoho\ncol\ncola\ncole\ncoo\ncooch\ncooee\ncoof\ncool\neach\neche\necho\necole\neel\nef\neff\nefface\neh\nel\nelf\nell\nfa\nface\nfaecal\nfall\nfallal\nfalloff\nfeal\nfecal\nfee\nfeel\nfell\nfella\nfellah\nfelloe\nfeoff\nfeoffee\nflea\nfleche\nflee\nfleece\nfleech\nfloc\nfloe\nfoal\nfocal\nfoe\nfoh\nfool\nha\nhaaf\nhae\nhah\nhalala\nhalalah\nhale\nhalf\nhall\nhallah\nhallel\nhallo\nhalloa\nhalloo\nhalo\nhaole\nhe\nheal\nheel\nhell\nhellhole\nhello\nho\nhoe\nhole\nholla\nhollo\nholloa\nholloo\nhooch\nhoof\nla\nlac\nlace\nlall\nlea\nleach\nleaf\nleal\nlech\nlee\nleech\nlo\nloach\nloaf\nloca\nlocal\nlocale\nloch\nloco\nlocofoco\nloll\nloo\nloof\nloofa\nloofah\noaf\noca\noe\nof\noff\noffal\noh\noho\nole\nolea\noleo\nolla\nooh\nOut of 113809 words there are 188 words where the filter applied, which is 0.17%\n"
    }
   ],
   "source": [
    "available = 'acefhlo'\n",
    "\n",
    "filter_word_list(uses_only, available)"
   ]
  },
  {
   "cell_type": "markdown",
   "metadata": {},
   "source": [
    "***"
   ]
  },
  {
   "cell_type": "markdown",
   "metadata": {},
   "source": [
    "### Exercise 9.5\n",
    "Write a function named `uses_all` that takes a word and a string of required letters, and that returns `True` if the word uses all the required letters at least once. How many words are there that use all the vowels `aeiou`? How about `aeiouy`?"
   ]
  },
  {
   "cell_type": "code",
   "execution_count": 7,
   "metadata": {},
   "outputs": [],
   "source": [
    "def uses_all(word, required):\n",
    "    return uses_only(required, word)"
   ]
  },
  {
   "cell_type": "code",
   "execution_count": 8,
   "metadata": {
    "tags": []
   },
   "outputs": [
    {
     "output_type": "stream",
     "name": "stdout",
     "text": "aboideau\naboideaus\naboideaux\naboiteau\naboiteaus\naboiteaux\nabstemious\nabstemiously\naccentuation\naccentuations\naccountabilities\naccountancies\naccoutering\nadulteration\nadulterations\nadventitious\nadventitiously\nadventitiousness\nadventitiousnesses\naerobium\naeronautic\naeronautical\naeronautically\naeronautics\nagouties\nambidextrous\nambidextrously\nantibourgeois\nanticonsumer\nantievolution\nantievolutionary\nantihomosexual\nantireligious\nantirevolutionary\nantisubversion\nantituberculosis\nantiunemployment\narmouries\narsenious\nassiduousness\nassiduousnesses\natrociousness\natrociousnesses\nattenuation\nattenuations\nauctioned\nauctioneer\nauctioneers\nauditioned\nauditories\naugmentation\naugmentations\naureoling\nauthentication\nauthentications\nauthoritative\nauthoritatively\nauthorities\nauthorize\nauthorized\nauthorizes\nautobiographer\nautobiographers\nautobiographies\nautocracies\nautogamies\nautogenies\nautomobile\nautomobiles\nautomotive\nautonomies\nautopsied\nautopsies\nautotomies\nautotypies\navoidupoises\nbeautification\nbeautifications\nbelabouring\nbivouacked\nboundaries\nbuoyancies\nbusinesswoman\ncalamitousness\ncalamitousnesses\ncarnivorousness\ncarnivorousnesses\ncauliflower\ncauliflowers\ncauterization\ncauterizations\ncautioned\ncautiousness\ncautiousnesses\nchemotherapeutic\nchemotherapeutical\nchivalrousness\nchivalrousnesses\ncoeducation\ncoeducational\ncoeducations\ncoequating\ncommunicable\ncommunicate\ncommunicated\ncommunicates\ncommunicative\nconceptualize\nconceptualized\nconceptualizes\nconceptualizing\nconsequential\nconstabularies\ncontinuance\ncontinuances\ncontumacies\ncopulative\ncopulatives\ncountenancing\ncounteraccusation\ncounteraccusations\ncounteracting\ncounteraggression\ncounteraggressions\ncounterarguing\ncounterattacking\ncounterbalancing\ncountercampaign\ncountercampaigns\ncounterclaim\ncounterclaims\ncountercomplaint\ncountercomplaints\ncounterdemonstration\ncounterdemonstrations\ncounterguerrila\ncounterinflationary\ncountermanding\ncounterpropagation\ncounterpropagations\ncounterraid\ncounterraids\ncounterrallies\ncounterretaliation\ncounterretaliations\ncounterstrategies\ndemagogueries\ndenunciation\ndenunciations\ndeputation\ndeputations\ndesquamation\ndesquamations\ndevaluation\ndevaluations\ndialogue\ndialogued\ndialogues\ndisadvantageous\ndiscontinuance\ndiscontinuances\ndiscourage\ndiscouraged\ndiscouragement\ndiscouragements\ndiscourages\ndocumentaries\ndocumentation\ndocumentations\nedacious\neducation\neducational\neducations\nefficacious\nejaculation\nejaculations\nelucidation\nelucidations\nemasculatation\nemasculatations\nemulation\nemulations\nemulsification\nemulsifications\nenamouring\nencouraging\nenumeration\nenumerations\nenunciation\nenunciations\nequation\nequations\nequatorial\nequivocal\nequivocate\nequivocated\nequivocates\nequivocating\nequivocation\nequivocations\neulogia\neulogiae\neulogias\neuphoria\neuphorias\nevacuation\nevacuations\nevaluation\nevaluations\nevolutionary\nexcommunicate\nexcommunicated\nexcommunicates\nexcommunicating\nexcommunication\nexcommunications\nexhaustion\nexhaustions\nexhumation\nexhumations\nexpurgation\nexpurgations\nextenuation\nextenuations\nextracommunity\nextraconstitutional\nexudation\nexudations\nfacetious\nfacetiously\nfastiduousness\nfastiduousnesses\nfilamentous\nfluoridate\nfluoridated\nfluoridates\nfountained\nfumatories\nfunctionaries\ngelatinous\ngenitourinary\ngraciousness\ngraciousnesses\ngregarious\ngregariously\ngregariousness\ngregariousnesses\ngubernatorial\nhallucinogen\nhallucinogenic\nhallucinogens\nharmoniousness\nharmoniousnesses\nhippopotamuses\nhousecleaning\nhousecleanings\nhousemaid\nhousemaids\nhousewarming\nhousewarmings\nhyperanxious\nhypercautious\nhyperfastidious\nignoramuses\nimportunate\nincommensurate\nincommunicable\ninconsequential\ninconsequentially\ninconsumable\ninoculate\ninoculated\ninoculates\ninsecuration\ninsecurations\ninsouciance\ninsouciances\ninstantaneous\ninstantaneously\ninstitutionalize\ninstrumentation\ninstrumentations\ninsubordinate\ninsupportable\ninsurmounable\nintercommunal\ninterinstitutional\nintermolecular\nintermountain\ninterpopulation\nintravenous\nintravenously\njalousie\njalousies\njealousies\nlasciviousness\nlasciviousnesses\nleukopenia\nliquefaction\nliquefactions\nloquacities\nmagnanimousness\nmagnanimousnesses\nmalfunctioned\nmalnourished\nmendacious\nmendaciously\nmenstruation\nmenstruations\nmiaoued\nmicrominiature\nmicrominiatures\nmicrominiaturized\nmiscellaneous\nmiscellaneously\nmiscellaneousness\nmiscellaneousnesses\nmodularities\nmodularized\nmortuaries\nmountaineer\nmountaineered\nmountaineering\nmountaineers\nmultidenominational\nmultidimensional\nmultidirectional\nmultimillionaire\nmultimodalities\nnefarious\nnefariouses\nnefariously\nneurological\nneurologically\nneuropathies\nneurotically\nneutralization\nneutralizations\nnitrosurea\nnoncommunicable\nnoncumulative\nnoneducational\nnonindustrialized\nnonintellectual\nobduracies\nobituaries\noccupancies\nossuaries\nostentatious\nostentatiously\noutbeaming\noutbleating\noutcapering\noutcaviled\noutcavilled\noutcheating\noutdistance\noutdistanced\noutdistances\noutdreaming\nouteating\noutfeasting\noutgained\nouthearing\noutlawries\noutleaping\noutlearning\noutpainted\noutpatient\noutpatients\noutraise\noutraised\noutraises\noutreaching\noutreading\noutrivaled\noutrivalled\noutsailed\noutspeaking\noutswearing\noutwaited\noutwearied\noutwearies\noutwearing\noutwearying\noverambitious\noveranxious\noverarousing\novercautious\novereducating\noverenthusiastic\noverexhausting\noverfatigue\noverfatigued\noverfatigues\noverfatiguing\noverhauling\noverparticular\noverqualified\noverregulating\noverregulation\noverregulations\noversaturating\noverstimulate\noverstimulated\noverstimulates\noverstimulating\novervaluing\npandemonium\npandemoniums\npasteurization\npasteurizations\npeculatation\npeculatations\nperambulation\nperambulations\nperpetuation\nperpetuations\nperspicacious\npersuasion\npersuasions\npertinacious\nperturbation\nperturbations\nplutocracies\npneumonia\npopularities\npopularize\npopularized\npopularizes\nportraiture\nportraitures\npostrevolutionary\npreauthorize\npreauthorized\npreauthorizes\npreauthorizing\nprecarious\nprecariously\nprecariousness\nprecariousnesses\nprecaution\nprecautionary\nprecautions\npreimmunization\npreimmunizations\npreinoculate\npreinoculated\npreinoculates\npreinoculating\npreinoculation\npreoccupation\npreoccupations\nprepublication\nprerevolutionary\npressurization\npressurizations\nproteinuria\npurgatories\nputrefaction\nputrefactions\nquestionable\nquestionnaire\nquestionnaires\nquestionniare\nquestionniares\nradionuclide\nradionuclides\nrapaciousness\nrapaciousnesses\nrearousing\nrecapitulation\nrecapitulations\nrecirculation\nrecirculations\nrecuperation\nrecuperations\nreevaluation\nreevaluations\nreformulating\nrefutation\nrefutations\nregulation\nregulations\nregurgitation\nregurgitations\nreinoculate\nreinoculated\nreinoculates\nreinoculating\nrejuvenation\nrejuvenations\nremuneration\nremunerations\nrenunciation\nrenunciations\nrepopulating\nrepudiation\nrepudiations\nrepudiator\nrepudiators\nreputation\nreputations\nresuscitation\nresuscitations\nresuscitator\nresuscitators\nrevolutionaries\nrevolutionary\nsacrilegious\nsacrilegiously\nsautoire\nsautoires\nsavourier\nsavouries\nsavouriest\nscabiouses\nsequoia\nsequoias\nsimultaneous\nsimultaneously\nsimultaneousness\nsimultaneousnesses\nsomersaulting\nspaciousness\nspaciousnesses\nspeculation\nspeculations\nstupefaction\nstupefactions\nsubatmospheric\nsubcategories\nsubequatorial\nsuboceanic\nsubordinate\nsubordinated\nsubordinates\nsubpoenaing\nsudatories\nsuperambitious\nsuperpatriot\nsuperpatriotic\nsuperpatriotism\nsuperpatriotisms\nsuperpatriots\ntambourine\ntambourines\ntenacious\ntenaciously\nthiourea\nthioureas\nulceration\nulcerations\nultraviolet\nunaccompanied\nunauthorized\nunavoidable\nuncomplimentary\nunconscionable\nunconventional\nunconventionally\nuncooperative\nuncoordinated\nundemocratic\nundomesticated\nunemotional\nunequivocal\nunequivocally\nunforgivable\nunidirectional\nunintentional\nunintentionally\nunmotivated\nunnojectionable\nunnoticeable\nunobtainable\nunorganized\nunpopularities\nunprofessional\nunprofitable\nunquestionable\nunquestionably\nunreasoning\nunsophisticated\nveracious\nvexatious\nvicariousness\nvicariousnesses\nvillianousness\nvillianousnesses\nvituperation\nvituperations\nvivaciousness\nvivaciousnesses\nvocabularies\nvoraciousness\nvoraciousnesses\nwarehousing\nOut of 113809 words there are 598 words where the filter applied, which is 0.53%\n"
    }
   ],
   "source": [
    "filter_word_list(uses_all, 'aeiou')"
   ]
  },
  {
   "cell_type": "code",
   "execution_count": 9,
   "metadata": {
    "scrolled": true,
    "tags": []
   },
   "outputs": [
    {
     "output_type": "stream",
     "name": "stdout",
     "text": "abstemiously\nadventitiously\naeronautically\nambidextrously\nantievolutionary\nantirevolutionary\nantiunemployment\nauthoritatively\nautotypies\nbuoyancies\ncounterinflationary\nevolutionary\nextracommunity\nfacetiously\ngenitourinary\ngregariously\nhyperanxious\nhypercautious\nhyperfastidious\ninconsequentially\ninstantaneously\nintravenously\nmendaciously\nmiscellaneously\nnefariously\nneurologically\nneurotically\nostentatiously\noutwearying\npostrevolutionary\nprecariously\nprecautionary\nprerevolutionary\nrevolutionary\nsacrilegiously\nsimultaneously\ntenaciously\nuncomplimentary\nunconventionally\nunequivocally\nunintentionally\nunquestionably\nOut of 113809 words there are 42 words where the filter applied, which is 0.04%\n"
    }
   ],
   "source": [
    "filter_word_list(uses_all, 'aeiouy')"
   ]
  },
  {
   "cell_type": "markdown",
   "metadata": {},
   "source": [
    "***"
   ]
  },
  {
   "cell_type": "markdown",
   "metadata": {},
   "source": [
    "### Exercise 9.6\n",
    "Write a function called `is_abecedarian` that returns `True` if the letters in a word appear in alphabetical order (double letters are ok). How many abecedarian words are there?"
   ]
  },
  {
   "cell_type": "code",
   "execution_count": 10,
   "metadata": {},
   "outputs": [],
   "source": [
    "def is_abecedarian(word):\n",
    "    i = 0\n",
    "    while i < len(word) - 1:\n",
    "        if word[i + 1] < word[i]:\n",
    "            return False\n",
    "        i = i + 1\n",
    "    return True"
   ]
  },
  {
   "cell_type": "code",
   "execution_count": 11,
   "metadata": {
    "tags": []
   },
   "outputs": [
    {
     "output_type": "stream",
     "name": "stdout",
     "text": "aa\naah\naahs\naal\naals\naas\nabbe\nabbes\nabbess\nabbey\nabbot\nabet\nabhor\nabhors\nably\nabo\nabort\nabos\nabuzz\naby\naccent\naccept\naccess\naccost\nace\nacers\naces\nachoo\nachy\nact\nad\nadd\nadder\nadders\nadds\nadeem\nadeems\nadept\nadios\nadit\nado\nadopt\nados\nads\nadz\nae\naegis\naery\naff\naffix\nafflux\nafoot\naft\nagin\nagio\nagios\nagist\naglow\nagly\nago\nah\nahoy\nai\nail\nails\naim\naims\nain\nains\nair\nairs\nairt\nairy\nais\nait\nall\nallot\nallow\nalloy\nalls\nally\nalmost\nalms\nalow\nalp\nalps\nalt\nam\nammo\nammos\namort\namp\namps\namu\nan\nannoy\nant\nany\napt\nar\nars\nart\narty\nas\nass\nat\naw\nay\nbe\nbee\nbeef\nbeefily\nbeefs\nbeefy\nbeen\nbeep\nbeeps\nbeer\nbeers\nbeery\nbees\nbeet\nbefit\nbeg\nbegin\nbegins\nbegirt\nbegot\nbegs\nbeknot\nbel\nbell\nbellow\nbells\nbelly\nbelow\nbels\nbelt\nben\nbenny\nbens\nbent\nberry\nbest\nbet\nbevy\nbey\nbhoot\nbi\nbijou\nbijoux\nbill\nbillow\nbillowy\nbills\nbilly\nbin\nbins\nbint\nbio\nbiopsy\nbios\nbirr\nbirrs\nbis\nbit\nbitt\nbitty\nbloop\nbloops\nblot\nblotty\nblow\nblowy\nbo\nboo\nboor\nboors\nboos\nboost\nboot\nbooty\nbop\nbops\nbort\nborty\nbortz\nbos\nboss\nbossy\nbot\nbott\nbow\nbox\nboxy\nboy\nbuy\nbuzz\nby\ncee\ncees\nceil\nceils\ncell\ncello\ncellos\ncells\ncelt\ncent\ncess\nchi\nchill\nchills\nchilly\nchimp\nchimps\nchin\nchino\nchinos\nchins\nchintz\nchip\nchippy\nchips\nchirr\nchirrs\nchis\nchit\nchitty\nchivvy\nchivy\nchoosy\nchop\nchoppy\nchops\nchott\nchow\ncist\ncity\ncivvy\ncloot\nclop\nclops\nclot\nclotty\ncloy\ncoo\ncoop\ncoops\ncoopt\ncoos\ncoot\ncop\ncops\ncopy\ncos\ncoss\ncost\ncosy\ncot\ncow\ncowy\ncox\ncoy\ncoz\ncrux\ncry\nde\ndee\ndeem\ndeems\ndeep\ndeeps\ndeer\ndeers\ndees\ndefi\ndefis\ndeft\ndefy\ndehort\ndei\ndeil\ndeils\ndeist\ndeity\ndel\ndell\ndells\ndelly\ndels\ndemo\ndemos\ndemy\nden\ndens\ndent\ndeny\nderry\ndes\ndev\ndew\ndewy\ndex\ndey\ndhow\ndill\ndills\ndilly\ndim\ndims\ndin\ndins\ndint\ndip\ndippy\ndips\ndipt\ndirt\ndirty\ndit\nditty\ndivvy\ndo\ndoor\ndoors\ndopy\ndor\ndorr\ndorrs\ndors\ndorty\ndory\ndos\ndoss\ndost\ndot\ndotty\ndoty\ndow\ndoxy\ndry\neel\neels\neely\neery\nef\neff\nefflux\neffort\neffs\nefs\neft\negg\neggs\negis\nego\negos\neh\nel\nell\nells\nelm\nelms\nelmy\nels\nem\nempty\nems\nemu\nen\nenow\nens\nenvy\ner\nerr\nerrs\ners\nerst\nes\ness\net\nex\nfil\nfill\nfills\nfilly\nfilm\nfilms\nfilmy\nfils\nfin\nfinny\nfins\nfir\nfirry\nfirs\nfirst\nfist\nfisty\nfit\nfix\nfiz\nfizz\nfloor\nfloors\nfloosy\nflop\nfloppy\nflops\nfloss\nflossy\nflow\nflu\nflux\nfly\nfoot\nfooty\nfop\nfops\nfor\nfort\nforty\nfoss\nfou\nfox\nfoxy\nfoy\nfry\nfuzz\nghi\nghis\nghost\nghosty\ngill\ngills\ngilly\ngilt\ngimp\ngimps\ngimpy\ngin\nginny\ngins\ngip\ngips\ngipsy\ngirt\ngist\ngit\nglop\nglops\nglory\ngloss\nglossy\nglost\nglow\ngnu\ngo\ngoo\ngoop\ngoops\ngoos\ngoosy\ngor\ngorsy\ngory\ngot\ngox\ngoy\nguy\nhi\nhill\nhillo\nhillos\nhills\nhilly\nhilt\nhim\nhin\nhinny\nhins\nhint\nhip\nhippy\nhips\nhis\nhiss\nhist\nhit\nho\nhoop\nhoops\nhoot\nhooty\nhop\nhops\nhorst\nhorsy\nhost\nhot\nhow\nhoy\nill\nills\nilly\nimmy\nimp\nimps\nin\ninn\ninns\nins\nis\nit\nivy\njo\njoss\njot\njotty\njow\njoy\nknop\nknops\nknot\nknotty\nknow\nkop\nkops\nkor\nkors\nkos\nkoss\nlo\nloo\nloop\nloops\nloopy\nloos\nloot\nlop\nloppy\nlops\nlorry\nlory\nloss\nlossy\nlost\nlot\nlow\nlox\nlux\nmoo\nmoor\nmoors\nmoory\nmoos\nmoot\nmop\nmops\nmor\nmors\nmort\nmoss\nmossy\nmost\nmot\nmott\nmow\nmu\nmy\nno\nnoo\nnor\nnos\nnosy\nnot\nnow\nnu\noops\noot\nop\nops\nopt\nor\nors\nort\nos\now\nox\noxy\noy\npry\npsst\nsty\ntux\nOut of 113809 words there are 596 words where the filter applied, which is 0.52%\n"
    }
   ],
   "source": [
    "filter_word_list(is_abecedarian)"
   ]
  },
  {
   "cell_type": "markdown",
   "metadata": {},
   "source": [
    "***"
   ]
  },
  {
   "cell_type": "markdown",
   "metadata": {},
   "source": [
    "## Exercise 9.7\n",
    "This question is based on a Puzzler that was broadcast on the radio program Car Talk (http://www.cartalk.com/content/puzzlers):\n",
    "> Give me a word with three consecutive double letters. I willll give you a couple of words that almost qualify, but do not. For example, the word committee, c-o-m-m-i-t-t-e-e. It would be great except for the 'i' that sneaks in there. Or Mississippi: M-i-s-s-i-s-s-ip-p-i. If you could take out those 'i's it would work. But there is a word that has three\n",
    "consecutive pairs of letters and to the best of my knowledge this may be the only word. Of course there are probably 500 more but I can only think of one. What is the word?\n",
    "\n",
    "Write a program to find it.<br>\n",
    "<br>\n",
    "<i>Solution: http://thinkpython2.com/code/cartalk1.py </i>"
   ]
  },
  {
   "cell_type": "code",
   "execution_count": 12,
   "metadata": {},
   "outputs": [],
   "source": [
    "def is_triple_double(word):\n",
    "    i = 0\n",
    "    count = 0\n",
    "    while i < len(word)-1:\n",
    "        if word[i] == word[i+1]:\n",
    "            count = count + 1\n",
    "            if count == 3:\n",
    "                return True\n",
    "            i = i + 2\n",
    "        else:\n",
    "            i = i + 1 - 2*count\n",
    "            count = 0\n",
    "    return False"
   ]
  },
  {
   "cell_type": "code",
   "execution_count": 13,
   "metadata": {
    "tags": []
   },
   "outputs": [
    {
     "output_type": "stream",
     "name": "stdout",
     "text": "bookkeeper\nbookkeepers\nbookkeeping\nbookkeepings\nOut of 113809 words there are 4 words where the filter applied, which is 0.00%\n"
    }
   ],
   "source": [
    "filter_word_list(is_triple_double)"
   ]
  },
  {
   "cell_type": "markdown",
   "metadata": {},
   "source": [
    "***"
   ]
  },
  {
   "cell_type": "markdown",
   "metadata": {},
   "source": [
    "## Exercise 9.8\n",
    "Here is another Car Talk Puzzler (http://www.cartalk.com/content/puzzlers):\n",
    ">\"I was driving on the highway the other day and I happened to notice my odometer. Like most odometers, it shows six digits, in whole miles only. So, if my car had 300,000 miles, for example, I’d see 3-0-0-0-0-0.<br>\n",
    "\"Now, what I saw that day was very interesting. I noticed that the last 4 digits were palindromic; that is, they read the same forward as backward. For example, 5-4-4-5 is a palindrome, so my odometer could have read 3-1-5-4-4-5.<br>\n",
    "\"One mile later, the last 5 numbers were palindromic. For example, it could have read 3-6-5-4-5-6. One mile after that, the middle 4 out of 6 numbers were palindromic. And you ready for this? One mile later, all 6 were palindromic!<br>\n",
    "\"The question is, what was on the odometer when I first looked?\"\n",
    "\n",
    "Write a Python program that tests all the six-digit numbers and prints any numbers that satisfy\n",
    "these requirements.<br>\n",
    "<br>\n",
    "<i>Solution: http://thinkpython2.com/code/cartalk2.py</i>"
   ]
  },
  {
   "cell_type": "code",
   "execution_count": 14,
   "metadata": {
    "tags": []
   },
   "outputs": [
    {
     "output_type": "stream",
     "name": "stdout",
     "text": "198888\n199999\n"
    }
   ],
   "source": [
    "def is_reverse_number(number1, number2):\n",
    "    number1 = str(number1)\n",
    "    number2 = str(number2)\n",
    "    if len(number1) != len(number2):\n",
    "       return False\n",
    "    i = 0\n",
    "    j = len(number2) - 1\n",
    "    while j >= 0:\n",
    "        if number1[i] != number2[j]:\n",
    "            return False\n",
    "        i += 1\n",
    "        j -= 1    \n",
    "    return True\n",
    "    \n",
    "def is_palindrome_number(number):\n",
    "    return is_reverse_number(number,number)\n",
    "    \n",
    "def check_all_six_digit_numbers():\n",
    "    i = 100000\n",
    "    while i < 999999:\n",
    "        if is_palindrome_number(str(i)[2:]):\n",
    "            if is_palindrome_number(str(i + 1)[1:]):\n",
    "                if is_palindrome_number(str(i + 2)[1:5]):\n",
    "                    if is_palindrome_number(str(i + 3)):\n",
    "                        print(i)\n",
    "        i = i + 1\n",
    "        \n",
    "check_all_six_digit_numbers()"
   ]
  },
  {
   "cell_type": "markdown",
   "metadata": {},
   "source": [
    "***"
   ]
  },
  {
   "cell_type": "markdown",
   "metadata": {},
   "source": [
    "## Exercise 9.9\n",
    "Here is another Car Talk Puzzler you can solve with a search (http://www.cartalk.com/content/puzzlers):\n",
    ">\"Recently I had a visit with my mom and we realized that the two digits that make up my age when reversed resulted in her age. For example, if she is 73, I am 37. We wondered how often this has happened over the years but we got sidetracked with other topics and we never came up with an answer.<br>\n",
    "\"When I got home I figured out that the digits of our ages have been reversible six times so far. I also figured out that if we are lucky it would happen again in a few years, and if we are really lucky it would happen one more time after that. In other words, it would have happened 8 times over all. So the question is, how old am I now?\"\n",
    "\n",
    "Write a Python program that searches for solutions to this Puzzler. Hint: you might find the string\n",
    "method zfill useful.<br>\n",
    "<i>Solution: http://thinkpython2.com/code/cartalk3.py</i>"
   ]
  },
  {
   "cell_type": "code",
   "execution_count": 15,
   "metadata": {
    "tags": []
   },
   "outputs": [
    {
     "output_type": "stream",
     "name": "stdout",
     "text": "diff  #instances\n17 8\n18 8\n26 7\n27 7\n35 6\n36 6\n44 5\n45 5\n53 4\n54 4\n62 3\n63 3\n\ndaughter  mother\n2 20\n13 31\n24 42\n35 53\n46 64\n57 75\n68 86\n79 97\n"
    },
    {
     "output_type": "execute_result",
     "data": {
      "text/plain": "8"
     },
     "metadata": {},
     "execution_count": 15
    }
   ],
   "source": [
    "\"\"\"This module contains a code example related to\n",
    "Think Python, 2nd Edition\n",
    "by Allen Downey\n",
    "http://thinkpython2.com\n",
    "Copyright 2015 Allen Downey\n",
    "License: http://creativecommons.org/licenses/by/4.0/\n",
    "\"\"\"\n",
    "\n",
    "from __future__ import print_function, division\n",
    "\n",
    "\n",
    "def str_fill(i, n):\n",
    "    \"\"\"Returns i as a string with at least n digits.\n",
    "    i: int\n",
    "    n: int length\n",
    "    returns: string\n",
    "    \"\"\"\n",
    "    return str(i).zfill(n)\n",
    "\n",
    "\n",
    "def are_reversed(i, j):\n",
    "    \"\"\"Checks if i and j are the reverse of each other.\n",
    "    i: int\n",
    "    j: int\n",
    "    returns:bool\n",
    "    \"\"\"\n",
    "    return str_fill(i, 2) == str_fill(j, 2)[::-1]\n",
    "\n",
    "\n",
    "def num_instances(diff, flag=False):\n",
    "    \"\"\"Counts the number of palindromic ages.\n",
    "    Returns the number of times the mother and daughter have\n",
    "    palindromic ages in their lives, given the difference in age.\n",
    "    diff: int difference in ages\n",
    "    flag: bool, if True, prints the details\n",
    "    \"\"\"\n",
    "    daughter = 0\n",
    "    count = 0\n",
    "    while True:\n",
    "        mother = daughter + diff\n",
    "\n",
    "        # assuming that mother and daughter don't have the same birthday,\n",
    "        # they have two chances per year to have palindromic ages.\n",
    "        if are_reversed(daughter, mother) or are_reversed(daughter, mother+1):\n",
    "            count = count + 1\n",
    "            if flag:\n",
    "                print(daughter, mother)\n",
    "        if mother > 120:\n",
    "            break\n",
    "        daughter = daughter + 1\n",
    "    return count\n",
    "    \n",
    "\n",
    "def check_diffs():\n",
    "    \"\"\"Finds age differences that satisfy the problem.\n",
    "    Enumerates the possible differences in age between mother\n",
    "    and daughter, and for each difference, counts the number of times\n",
    "    over their lives they will have ages that are the reverse of\n",
    "    each other.\n",
    "    \"\"\"\n",
    "    diff = 10\n",
    "    while diff < 70:\n",
    "        n = num_instances(diff)\n",
    "        if n > 0:\n",
    "            print(diff, n)\n",
    "        diff = diff + 1\n",
    "\n",
    "print('diff  #instances')\n",
    "check_diffs()\n",
    "\n",
    "print()\n",
    "print('daughter  mother')\n",
    "num_instances(18, True)"
   ]
  }
 ],
 "metadata": {
  "kernelspec": {
   "display_name": "Python 3",
   "language": "python",
   "name": "python3"
  },
  "language_info": {
   "codemirror_mode": {
    "name": "ipython",
    "version": 3
   },
   "file_extension": ".py",
   "mimetype": "text/x-python",
   "name": "python",
   "nbconvert_exporter": "python",
   "pygments_lexer": "ipython3",
   "version": "3.7.6-final"
  }
 },
 "nbformat": 4,
 "nbformat_minor": 4
}