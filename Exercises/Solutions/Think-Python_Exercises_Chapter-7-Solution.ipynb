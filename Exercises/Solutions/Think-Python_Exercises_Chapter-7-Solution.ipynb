{
 "metadata": {
  "language_info": {
   "codemirror_mode": {
    "name": "ipython",
    "version": 3
   },
   "file_extension": ".py",
   "mimetype": "text/x-python",
   "name": "python",
   "nbconvert_exporter": "python",
   "pygments_lexer": "ipython3",
   "version": "3.7.6-final"
  },
  "orig_nbformat": 2,
  "kernelspec": {
   "name": "python_defaultSpec_1597729814656",
   "display_name": "Python 3.7.6 64-bit ('base': conda)"
  }
 },
 "nbformat": 4,
 "nbformat_minor": 2,
 "cells": [
  {
   "cell_type": "markdown",
   "metadata": {},
   "source": [
    "# Exercises - Chapter 7"
   ]
  },
  {
   "cell_type": "markdown",
   "metadata": {},
   "source": [
    "## Exercise 7.1\n",
    "\n",
    "Copy the loop below and encapsulate it in a function called `mysqrt` that takes `a` as a parameter, chooses a reasonable value of `x`, and returns an estimate of the square root of `a`."
   ]
  },
  {
   "cell_type": "code",
   "execution_count": null,
   "metadata": {},
   "outputs": [],
   "source": [
    "while True:\n",
    "    print(x)\n",
    "    y = (x + a/x) / 2\n",
    "    if y == x:\n",
    "        break\n",
    "    x = y"
   ]
  },
  {
   "cell_type": "markdown",
   "metadata": {},
   "source": [
    "To test it, write a function named `test_square_root` that prints a table like this:<br>\n",
    "\n",
    "| a | mysqrt(a) | math.sqrt(a) | diff |\n",
    "| :- | :- | :- | :- |\n",
    "| 1.0 | 1.0 | 1.0 | 0.0 |\n",
    "| 2.0 | 1.41421356237 | 1.41421356237 | 2.22044604925e-16 |\n",
    "| 3.0 | 1.73205080757 | 1.73205080757 | 0.0 |\n",
    "| 4.0 | 2.0 | 2.0 | 0.0 |\n",
    "| 5.0 | 2.2360679775 | 2.2360679775 | 0.0 |\n",
    "| 6.0 | 2.44948974278 | 2.44948974278 | 0.0 |\n",
    "| 7.0 | 2.64575131106 | 2.64575131106 | 0.0 |\n",
    "| 8.0 | 2.82842712475 | 2.82842712475 | 4.4408920985e-16 |\n",
    "| 9.0 | 3.0 | 3.0 | 0.0 |\n",
    "\n",
    "The first column is a number, `a`; the second column is the square root of `a` computed with `mysqrt`; the third column is the square root computed by `math.sqrt`; the fourth column is the absolute value of the difference between the two estimates"
   ]
  },
  {
   "cell_type": "code",
   "execution_count": 4,
   "metadata": {},
   "outputs": [
    {
     "output_type": "execute_result",
     "data": {
      "text/plain": "1.7320508075688772"
     },
     "metadata": {},
     "execution_count": 4
    }
   ],
   "source": [
    "def square_root(a):\n",
    "    x = a / 1.5\n",
    "    while True:\n",
    "        #print(x)\n",
    "        y = (x + a / x) / 2\n",
    "        if  y == x:\n",
    "            break\n",
    "        x = y\n",
    "    return x\n",
    "\n",
    "square_root(3)"
   ]
  },
  {
   "cell_type": "code",
   "execution_count": 5,
   "metadata": {
    "tags": []
   },
   "outputs": [
    {
     "output_type": "stream",
     "name": "stdout",
     "text": "1 1.0 1.0 0.0\n2 1.414213562373095 1.4142135623730951 2.220446049250313e-16\n3 1.7320508075688772 1.7320508075688772 0.0\n4 2.0 2.0 0.0\n5 2.23606797749979 2.23606797749979 0.0\n6 2.449489742783178 2.449489742783178 0.0\n7 2.6457513110645907 2.6457513110645907 0.0\n8 2.82842712474619 2.8284271247461903 4.440892098500626e-16\n9 3.0 3.0 0.0\n"
    }
   ],
   "source": [
    "def test_square_root():\n",
    "    for n in range(1,10):\n",
    "        print(n, square_root(n), math.sqrt(n), abs(square_root(n) - math.sqrt(n)))\n",
    "        \n",
    "test_square_root()"
   ]
  },
  {
   "cell_type": "markdown",
   "metadata": {},
   "source": [
    "***"
   ]
  },
  {
   "cell_type": "markdown",
   "metadata": {},
   "source": [
    "## Exercise 7.2\n",
    "\n",
    "The built-in function `eval` takes a string and evaluates it using the Python interpreter. For example:"
   ]
  },
  {
   "cell_type": "code",
   "execution_count": 1,
   "metadata": {},
   "outputs": [
    {
     "output_type": "execute_result",
     "data": {
      "text/plain": "7"
     },
     "metadata": {},
     "execution_count": 1
    }
   ],
   "source": [
    "eval('1 + 2 * 3')"
   ]
  },
  {
   "cell_type": "code",
   "execution_count": 2,
   "metadata": {},
   "outputs": [
    {
     "output_type": "execute_result",
     "data": {
      "text/plain": "2.23606797749979"
     },
     "metadata": {},
     "execution_count": 2
    }
   ],
   "source": [
    "import math\n",
    "eval('math.sqrt(5)')"
   ]
  },
  {
   "cell_type": "code",
   "execution_count": 3,
   "metadata": {},
   "outputs": [
    {
     "output_type": "execute_result",
     "data": {
      "text/plain": "float"
     },
     "metadata": {},
     "execution_count": 3
    }
   ],
   "source": [
    "eval('type(math.pi)')"
   ]
  },
  {
   "cell_type": "markdown",
   "metadata": {},
   "source": [
    "Write a function called eval_loop that iteratively prompts the user, takes the resulting input and evaluates it using eval, and prints the result.<br>\n",
    "It should continue until the user enters `'done'`, and then return the value of the last expression it evaluated."
   ]
  },
  {
   "cell_type": "code",
   "execution_count": 6,
   "metadata": {
    "tags": []
   },
   "outputs": [
    {
     "output_type": "stream",
     "name": "stdout",
     "text": "This program will use the built-in eval() function on the input you provide. Type 'done' to exit!\n\n7\n2.23606797749979\n<class 'float'>\n"
    }
   ],
   "source": [
    "import math\n",
    "\n",
    "def eval_loop():\n",
    "    print(\"This program will use the built-in eval() function on the input you provide. Type 'done' to exit!\\n\")\n",
    "    while True:\n",
    "        line = input('>')\n",
    "        if line == 'done':\n",
    "           break\n",
    "        else:\n",
    "            print(eval(line))\n",
    "\n",
    "eval_loop()"
   ]
  },
  {
   "cell_type": "markdown",
   "metadata": {},
   "source": [
    "***"
   ]
  },
  {
   "cell_type": "markdown",
   "metadata": {},
   "source": [
    "## Exercise 7.3\n",
    "The mathematician Srinivasa Ramanujan found an infinite series that can be used to generate a numerical approximation of $1 / \\pi$:"
   ]
  },
  {
   "cell_type": "markdown",
   "metadata": {},
   "source": [
    "$$\n",
    "\\frac{1}{\\pi} =\n",
    "\\frac{2\\sqrt{2}}{9801}\n",
    "\\sum_{k=0}^\\infty\n",
    "\\frac{(4k)!(1103 + 26390k)}{(k!)^4 396^{4k}}\n",
    "$$"
   ]
  },
  {
   "cell_type": "markdown",
   "metadata": {},
   "source": [
    "Write a function called `estimate_pi` that uses this formula to compute and return an estimate of $\\pi$. It should use a `while` loop to compute terms of the summation until the last term is smaller than `1e-15` (which is Python notation for $10^{−15}$). You can check the result by comparing it to `math.pi`.<br>\n",
    "<br>\n",
    "<i>Solution: https://github.com/AllenDowney/ThinkPython2/blob/master/code/pi.py</i>"
   ]
  },
  {
   "cell_type": "code",
   "execution_count": 7,
   "metadata": {
    "tags": []
   },
   "outputs": [
    {
     "output_type": "stream",
     "name": "stdout",
     "text": "3.141592653589793 3.141592653589793 0.0\n"
    }
   ],
   "source": [
    "import math\n",
    "\n",
    "def estimate_pi():\n",
    "    epsilon = 1e-15\n",
    "    inverse_approx_pi_k = 0\n",
    "    k = 0\n",
    "    while True:\n",
    "        next_inverse_approx_pi_k = 2 * math.sqrt(2) / 9801 \\\n",
    "                                   * (math.factorial(4 * k) * (1103 + 26390 * k) \\\n",
    "                                   / (math.factorial(k)**4 * 396**(4 * k)))\n",
    "        inverse_approx_pi_k += next_inverse_approx_pi_k\n",
    "        if(abs(next_inverse_approx_pi_k) < epsilon):\n",
    "            break\n",
    "        k += 1\n",
    "    approx_pi = 1 / inverse_approx_pi_k\n",
    "    return approx_pi\n",
    "    \n",
    "estimated_pi = estimate_pi()\n",
    "print(estimated_pi, math.pi, abs(estimated_pi - math.pi))"
   ]
  }
 ]
}