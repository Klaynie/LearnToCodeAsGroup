{
 "cells": [
  {
   "cell_type": "markdown",
   "metadata": {},
   "source": [
    "# Exercises - Chapter 3\n",
    "## Solution"
   ]
  },
  {
   "cell_type": "markdown",
   "metadata": {},
   "source": [
    "## Exercise 3.1\n",
    "\n",
    "Write a function named `right_justify` that takes a string named `s` as a parameter and prints the string with enough leading spaces so that the last letter of the string is in column 70 of the display.\n",
    "\n",
    "`>>> right_justify('monty')`<br>\n",
    "`|                                                                monty|`<br>\n",
    "<br>\n",
    "<i>Hint: Use string concatenation and repetition. Also, Python provides a built-in function called `len`\n",
    "that returns the length of a string, so the value of `len('monty')` is 5.</i>"
   ]
  },
  {
   "cell_type": "code",
   "execution_count": 1,
   "metadata": {},
   "outputs": [],
   "source": [
    "def right_justify(value_in_tx):\n",
    "    max_len = 70\n",
    "    value_out_tx = (max_len-len(value_in_tx))*' '+value_in_tx\n",
    "    print(value_out_tx)"
   ]
  },
  {
   "cell_type": "code",
   "execution_count": 2,
   "metadata": {},
   "outputs": [
    {
     "name": "stdout",
     "output_type": "stream",
     "text": [
      "                                                                 allen\n"
     ]
    }
   ],
   "source": [
    "right_justify('allen')"
   ]
  },
  {
   "cell_type": "code",
   "execution_count": 3,
   "metadata": {},
   "outputs": [
    {
     "name": "stdout",
     "output_type": "stream",
     "text": [
      "                                                      SpamSpamSpamSpam\n"
     ]
    }
   ],
   "source": [
    "right_justify('Spam'*4)"
   ]
  },
  {
   "cell_type": "markdown",
   "metadata": {},
   "source": [
    "***"
   ]
  },
  {
   "cell_type": "markdown",
   "metadata": {},
   "source": [
    "## Exercise 3.2\n",
    "\n",
    "A function object is a value you can assign to a variable or pass as an argument. For example, `do_twice` is a function that takes a function object as an argument and calls it twice:"
   ]
  },
  {
   "cell_type": "code",
   "execution_count": 4,
   "metadata": {},
   "outputs": [],
   "source": [
    "def do_twice(f):\n",
    "    f()\n",
    "    f()"
   ]
  },
  {
   "cell_type": "markdown",
   "metadata": {},
   "source": [
    "Here is an example that uses `do_twice` to call a function named `print_spam` twice."
   ]
  },
  {
   "cell_type": "code",
   "execution_count": 5,
   "metadata": {},
   "outputs": [],
   "source": [
    "def print_spam():\n",
    "    print('spam')"
   ]
  },
  {
   "cell_type": "markdown",
   "metadata": {},
   "source": [
    "1. Type this example into a script and test it."
   ]
  },
  {
   "cell_type": "code",
   "execution_count": 6,
   "metadata": {},
   "outputs": [
    {
     "name": "stdout",
     "output_type": "stream",
     "text": [
      "spam\n",
      "spam\n"
     ]
    }
   ],
   "source": [
    "do_twice(print_spam)"
   ]
  },
  {
   "cell_type": "markdown",
   "metadata": {},
   "source": [
    "2. Modify do_twice so that it takes two arguments, a function object and a value, and calls the function twice, passing the value as an argument."
   ]
  },
  {
   "cell_type": "code",
   "execution_count": 7,
   "metadata": {},
   "outputs": [
    {
     "name": "stdout",
     "output_type": "stream",
     "text": [
      "SpamSpamSpam\n",
      "SpamSpamSpam\n"
     ]
    }
   ],
   "source": [
    "def do_twice(function_in,argument_in):\n",
    "    function_in(argument_in)\n",
    "    function_in(argument_in)\n",
    "\n",
    "def print_tx(text_in):\n",
    "    print(text_in)\n",
    "\n",
    "do_twice(print_tx, \"Spam\"*3)"
   ]
  },
  {
   "cell_type": "markdown",
   "metadata": {},
   "source": [
    "3. Copy the definition of `print_twice` from earlier in this chapter to your script."
   ]
  },
  {
   "cell_type": "code",
   "execution_count": 8,
   "metadata": {},
   "outputs": [],
   "source": [
    "def do_twice(function_in,argument_in):\n",
    "    function_in(argument_in)\n",
    "    function_in(argument_in)\n",
    "\n",
    "def print_twice(text_in):\n",
    "    print(text_in)\n",
    "    print(text_in)"
   ]
  },
  {
   "cell_type": "markdown",
   "metadata": {},
   "source": [
    "4. Use the modified version of `do_twice` to call `print_twice` twice, passing 'spam' as an argument."
   ]
  },
  {
   "cell_type": "code",
   "execution_count": 9,
   "metadata": {},
   "outputs": [
    {
     "name": "stdout",
     "output_type": "stream",
     "text": [
      "SpamSpamSpam\n",
      "SpamSpamSpam\n",
      "SpamSpamSpam\n",
      "SpamSpamSpam\n"
     ]
    }
   ],
   "source": [
    "do_twice(print_twice, \"Spam\"*3)"
   ]
  },
  {
   "cell_type": "markdown",
   "metadata": {},
   "source": [
    "5. Define a new function called `do_four` that takes a function object and a value and calls the function four times, passing the value"
   ]
  },
  {
   "cell_type": "code",
   "execution_count": 10,
   "metadata": {},
   "outputs": [
    {
     "name": "stdout",
     "output_type": "stream",
     "text": [
      "SpamSpamSpamSpamSpam\n",
      "SpamSpamSpamSpamSpam\n",
      "SpamSpamSpamSpamSpam\n",
      "SpamSpamSpamSpamSpam\n",
      "SpamSpamSpamSpamSpam\n",
      "SpamSpamSpamSpamSpam\n",
      "SpamSpamSpamSpamSpam\n",
      "SpamSpamSpamSpamSpam\n"
     ]
    }
   ],
   "source": [
    "def do_twice(function_in_do_twice,argument_in_do_twice):\n",
    "    function_in_do_twice(argument_in_do_twice)\n",
    "    function_in_do_twice(argument_in_do_twice)\n",
    "\n",
    "def do_four(function_in_do_four,argument_in_do_four):\n",
    "    do_twice(function_in_do_four,argument_in_do_four)\n",
    "    do_twice(function_in_do_four,argument_in_do_four)\n",
    "\n",
    "def print_twice(text_in):\n",
    "    print(text_in)\n",
    "    print(text_in)\n",
    "\n",
    "do_four(print_twice, 'Spam'*5)"
   ]
  },
  {
   "cell_type": "markdown",
   "metadata": {},
   "source": [
    "***"
   ]
  },
  {
   "cell_type": "markdown",
   "metadata": {},
   "source": [
    "## Exercise 3.3\n",
    "\n",
    "Note: This exercise should be done using only the statements and other features we\n",
    "have learned so far.\n",
    "1. <b>Write a function that draws a grid like the following:</b><br>\n",
    "`+ - - - - + - - - - +`<br>\n",
    "`|         |         |`<br>\n",
    "`|         |         |`<br>\n",
    "`|         |         |`<br>\n",
    "`|         |         |`<br>\n",
    "`+ - - - - + - - - - +`<br>\n",
    "`|         |         |`<br>\n",
    "`|         |         |`<br>\n",
    "`|         |         |`<br>\n",
    "`|         |         |`<br>\n",
    "`+ - - - - + - - - - +`"
   ]
  },
  {
   "cell_type": "markdown",
   "metadata": {},
   "source": [
    "Hint: to print more than one value on a line, you can print a comma-separated sequence of\n",
    "values:"
   ]
  },
  {
   "cell_type": "code",
   "execution_count": 11,
   "metadata": {},
   "outputs": [
    {
     "name": "stdout",
     "output_type": "stream",
     "text": [
      "+ -\n"
     ]
    }
   ],
   "source": [
    "print('+', '-')"
   ]
  },
  {
   "cell_type": "markdown",
   "metadata": {},
   "source": [
    "By default, print advances to the next line, but you can override that behavior and put a space at the end, like this:"
   ]
  },
  {
   "cell_type": "code",
   "execution_count": 12,
   "metadata": {},
   "outputs": [
    {
     "name": "stdout",
     "output_type": "stream",
     "text": [
      "+ -\n"
     ]
    }
   ],
   "source": [
    "print('+', end=' ')\n",
    "print('-')"
   ]
  },
  {
   "cell_type": "markdown",
   "metadata": {},
   "source": [
    "2. <b>Write a function that draws a similar grid with four rows and four columns.</b>\n",
    "\n",
    "Credit: This exercise is based on an exercise in Oualline, Practical C Programming, Third Edition, O’Reilly Media, 1997."
   ]
  },
  {
   "cell_type": "code",
   "execution_count": 13,
   "metadata": {},
   "outputs": [
    {
     "name": "stdout",
     "output_type": "stream",
     "text": [
      "+-------+-------+-------+-------+-------+-------+-------+-------+-------+-------+\n",
      "|       |       |       |       |       |       |       |       |       |       |\n",
      "|       |       |       |       |       |       |       |       |       |       |\n",
      "+-------+-------+-------+-------+-------+-------+-------+-------+-------+-------+\n",
      "|       |       |       |       |       |       |       |       |       |       |\n",
      "|       |       |       |       |       |       |       |       |       |       |\n",
      "+-------+-------+-------+-------+-------+-------+-------+-------+-------+-------+\n",
      "|       |       |       |       |       |       |       |       |       |       |\n",
      "|       |       |       |       |       |       |       |       |       |       |\n",
      "+-------+-------+-------+-------+-------+-------+-------+-------+-------+-------+\n",
      "|       |       |       |       |       |       |       |       |       |       |\n",
      "|       |       |       |       |       |       |       |       |       |       |\n",
      "+-------+-------+-------+-------+-------+-------+-------+-------+-------+-------+\n",
      "|       |       |       |       |       |       |       |       |       |       |\n",
      "|       |       |       |       |       |       |       |       |       |       |\n",
      "+-------+-------+-------+-------+-------+-------+-------+-------+-------+-------+\n",
      "|       |       |       |       |       |       |       |       |       |       |\n",
      "|       |       |       |       |       |       |       |       |       |       |\n",
      "+-------+-------+-------+-------+-------+-------+-------+-------+-------+-------+\n",
      "|       |       |       |       |       |       |       |       |       |       |\n",
      "|       |       |       |       |       |       |       |       |       |       |\n",
      "+-------+-------+-------+-------+-------+-------+-------+-------+-------+-------+\n",
      "|       |       |       |       |       |       |       |       |       |       |\n",
      "|       |       |       |       |       |       |       |       |       |       |\n",
      "+-------+-------+-------+-------+-------+-------+-------+-------+-------+-------+\n",
      "|       |       |       |       |       |       |       |       |       |       |\n",
      "|       |       |       |       |       |       |       |       |       |       |\n",
      "+-------+-------+-------+-------+-------+-------+-------+-------+-------+-------+\n",
      "|       |       |       |       |       |       |       |       |       |       |\n",
      "|       |       |       |       |       |       |       |       |       |       |\n",
      "+-------+-------+-------+-------+-------+-------+-------+-------+-------+-------+\n"
     ]
    }
   ],
   "source": [
    "def print_horizontal(width_in, amount_horizontal):\n",
    "    for i in range(amount_horizontal):\n",
    "        print('+', end = ''),print((width_in-1)*'-', end = '')\n",
    "    print('+')\n",
    "\n",
    "def print_vertical(amount_vertical, block_height, block_width):\n",
    "    for j in range(block_height):\n",
    "        for i in range(amount_vertical):\n",
    "            print('|', end = ''),print((block_width-1)*' ', end = '')\n",
    "        print('|')\n",
    "    \n",
    "def build_grid(grid_height, grid_width, block_width, block_height):\n",
    "    print_horizontal(block_width, grid_width)\n",
    "    for i in range(grid_height):\n",
    "        print_vertical(grid_width, block_height, block_width)\n",
    "        print_horizontal(block_width, grid_width)\n",
    "\n",
    "build_grid(grid_height=10, grid_width=10, block_width=8, block_height=2)"
   ]
  }
 ],
 "metadata": {
  "kernelspec": {
   "display_name": "Python 3",
   "language": "python",
   "name": "python3"
  },
  "language_info": {
   "codemirror_mode": {
    "name": "ipython",
    "version": 3
   },
   "file_extension": ".py",
   "mimetype": "text/x-python",
   "name": "python",
   "nbconvert_exporter": "python",
   "pygments_lexer": "ipython3",
   "version": "3.8.3"
  }
 },
 "nbformat": 4,
 "nbformat_minor": 4
}
