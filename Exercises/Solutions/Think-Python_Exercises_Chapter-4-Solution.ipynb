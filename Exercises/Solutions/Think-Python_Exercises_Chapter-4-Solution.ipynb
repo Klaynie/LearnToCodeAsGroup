{
 "cells": [
  {
   "cell_type": "markdown",
   "metadata": {},
   "source": [
    "# Exercises - Chapter 4"
   ]
  },
  {
   "cell_type": "markdown",
   "metadata": {},
   "source": [
    "## Exercise 4.1\n",
    "\n",
    "Try to move and draw with the turtle by reading the instructions on the readme on this github repository https://github.com/gkvoelkl/ipython-turtle-widget"
   ]
  },
  {
   "cell_type": "markdown",
   "metadata": {},
   "source": [
    "## Solutions\n",
    "\n",
    "### Note: You have to run the code block below before you can run the other code blocks"
   ]
  },
  {
   "cell_type": "code",
   "execution_count": null,
   "metadata": {},
   "outputs": [],
   "source": [
    "from ipyturtle import Turtle\n",
    "t = Turtle()\n",
    "t"
   ]
  },
  {
   "cell_type": "markdown",
   "metadata": {},
   "source": [
    "***"
   ]
  },
  {
   "cell_type": "markdown",
   "metadata": {},
   "source": [
    "## Exercise 4.2\n",
    "\n",
    "Write an appropriately general set of functions that can draw flowers as shown below\n",
    "![Flowers](flowers.png)"
   ]
  },
  {
   "cell_type": "code",
   "execution_count": null,
   "metadata": {},
   "outputs": [],
   "source": [
    "import math\n",
    "\n",
    "def square(turtle, length):\n",
    "    \"\"\"\n",
    "    Draws a square with sides of the given length.\n",
    "    \n",
    "    turtle: instance of a Turtle object.\n",
    "    length: length of each side.\n",
    "    \"\"\"\n",
    "    for i in range(4):\n",
    "        turtle.forward(length)\n",
    "        turtle.left(90)\n",
    "\n",
    "def polygon(turtle, length, n):\n",
    "    \"\"\"\n",
    "    Draws a polygon with n sides.\n",
    "    \n",
    "    turtle: instance of a Turtle object.\n",
    "    n: number of sides\n",
    "    length: length of each side.\n",
    "    \"\"\"\n",
    "    for i in range(n):\n",
    "        turtle.forward(l)\n",
    "        turtle.left(360/n)\n",
    "\n",
    "def polyline(turtle, n, length, angle):\n",
    "    \"\"\"\n",
    "    Draws n line segments.\n",
    "    \n",
    "    turtle: instance of a Turtle object.\n",
    "    n: number of line segments\n",
    "    length: length of each segment\n",
    "    angle: degrees between segments\n",
    "    \"\"\"\n",
    "    for i in range(n):\n",
    "        turtle.forward(length)\n",
    "        turtle.left(angle)\n",
    "\n",
    "def circle(turtle, r):\n",
    "    \"\"\"\n",
    "    Draws a circle with radius r.\n",
    "    \n",
    "    turtle: instance of a Turtle object.\n",
    "    r: radius\n",
    "    \"\"\"\n",
    "    arc(turtle, r, 360)\n",
    "\n",
    "def arc(turtle, r, angle):\n",
    "    \"\"\"\n",
    "    Draws an arc with radius r over the given angle.\n",
    "    \n",
    "    turtle: instance of a Turtle object.\n",
    "    r: radius\n",
    "    angle: angle subtended by the arc, in degrees\n",
    "    \"\"\"\n",
    "    circumference = 2 * math.pi * r\n",
    "    arclength = circumference * angle / 360\n",
    "    n = int(circumference / 3) + 1\n",
    "    step_length = arclength / n\n",
    "    step_angle = angle / n\n",
    "    polyline(turtle, n, step_length, step_angle)\n",
    "\n",
    "def petal_line(turtle, r, angle):\n",
    "    \"\"\"\n",
    "    Draws the outline of a petal with radius r over the given angle.\n",
    "    \n",
    "    turtle: instance of a Turtle object.\n",
    "    r: radius\n",
    "    angle: angle subtended by the arc, in degrees\n",
    "    gamma: angle subtended by the arc, in degrees\n",
    "    \"\"\"\n",
    "    gamma = (180 - angle) / 2\n",
    "    for _ in range(2):\n",
    "        arc(turtle, r, angle)\n",
    "        turtle.left(2 * gamma)\n",
    "        \n",
    "\n",
    "def petal(turtle, thickness, length):\n",
    "    \"\"\"\n",
    "    Draws a petal with the given thickness and length\n",
    "    \n",
    "    turtle: instance of a Turtle object.\n",
    "    thickness: thickness of the petal\n",
    "    length: length of the petal\n",
    "    \"\"\"\n",
    "    height = thickness / 2\n",
    "    r = (4 * height**2 + length**2) / (8 * height)\n",
    "    angle = 2 * math.degrees(math.asin(length / (2 * r)))\n",
    "    petal_line(turtle, r, angle)\n",
    "    \n",
    "def flower(turtle, thickness, length, petal_amount):\n",
    "    \"\"\"\n",
    "    Draws a flower with petal_amount petals of given thickness and length\n",
    "    \n",
    "    turtle: instance of a Turtle object.\n",
    "    thickness: thickness of a petal\n",
    "    length: length of a petal\n",
    "    petal_amount: number of petals the flower will have\n",
    "    \"\"\"\n",
    "    for i in range(petal_amount):\n",
    "        petal(turtle, thickness, length)\n",
    "        turtle.left(360 / petal_amount)\n",
    "        \n",
    "def tilted_flower(turtle, thickness, length, petal_amount, theta):\n",
    "    \"\"\"\n",
    "    Draws a flower with petal_amount petals of given thickness and length.\n",
    "    The flower will be shifted by initial angle theta\n",
    "    \n",
    "    turtle: instance of a Turtle object.\n",
    "    thickness: thickness of a petal\n",
    "    length: length of a petal\n",
    "    petal_amount: number of petals the flower will have\n",
    "    theta: shift in angle of the flower\n",
    "    \"\"\"\n",
    "    lt(t,theta)\n",
    "    flower(t,d,l,n)"
   ]
  },
  {
   "cell_type": "code",
   "execution_count": null,
   "metadata": {},
   "outputs": [],
   "source": [
    "t.reset()\n",
    "flower(t, 10, 100, 4)"
   ]
  },
  {
   "cell_type": "markdown",
   "metadata": {},
   "source": [
    "***"
   ]
  },
  {
   "cell_type": "markdown",
   "metadata": {},
   "source": [
    "## Exercise 4.3\n",
    "\n",
    "Write an appropriately general set of functions that can draw shapes as shown below\n",
    "![Shapes](shapes.png)"
   ]
  },
  {
   "cell_type": "code",
   "execution_count": null,
   "metadata": {},
   "outputs": [],
   "source": [
    "import math\n",
    "\n",
    "def triangle(turtle, triangle_side, triangle_bottom, alpha):\n",
    "    \"\"\"\n",
    "    Draws a triangle\n",
    "    \n",
    "    turtle: instance of a Turtle object.\n",
    "    triangle_side: length of the outer sides of the triangle.\n",
    "    triangle_bottom: length of the bottom of the triangle.\n",
    "    \"\"\"\n",
    "    gamma = (180 - alpha) / 2\n",
    "    turtle.forward(triangle_side)\n",
    "    turtle.left(180 - gamma)\n",
    "    turtle.forward(triangle_bottom)\n",
    "    turtle.left(180 - gamma)\n",
    "    turtle.forward(triangle_side)\n",
    "    turtle.left(180 - alpha)\n",
    "\n",
    "def pie_slice(turtle, side_length, alpha):\n",
    "    \"\"\"\n",
    "    Draws a pie slice\n",
    "    \n",
    "    turtle: instance of a Turtle object.\n",
    "    side_length: length of the outer side of the pie slice.\n",
    "    alpha: angle of the top side of the pie slice.\n",
    "    \"\"\"\n",
    "    triangle_side = side_length / (math.cos(math.radians(alpha / 2)))\n",
    "    triangle_bottom = 2 * side_length * math.tan(math.radians(alpha / 2))\n",
    "    triangle(turtle, triangle_side, triangle_bottom, alpha)\n",
    "    \n",
    "def pie(turtle, side_length, slice_amount, theta):\n",
    "    \"\"\"\n",
    "    Draws a pie with slice_amount of slices\n",
    "    \n",
    "    turtle: instance of a Turtle object.\n",
    "    slice_amount: amount of slices in the pie\n",
    "    side_length: length of the outer side of the pie.\n",
    "    theta: angle of the initial shift of the pie\n",
    "    \"\"\"\n",
    "    alpha = 360 / slice_amount # divide the pie in equal slices\n",
    "    turtle.left(theta) # set the starting position\n",
    "    for i in range(slice_amount):\n",
    "        pie_slice(turtle, side_length, alpha)\n",
    "        turtle.left(360 / slice_amount)"
   ]
  },
  {
   "cell_type": "code",
   "execution_count": null,
   "metadata": {},
   "outputs": [],
   "source": [
    "t.reset()\n",
    "pie(t, 100, 8, 30)"
   ]
  }
 ],
 "metadata": {
  "kernelspec": {
   "display_name": "Python 3",
   "language": "python",
   "name": "python3"
  },
  "language_info": {
   "codemirror_mode": {
    "name": "ipython",
    "version": 3
   },
   "file_extension": ".py",
   "mimetype": "text/x-python",
   "name": "python",
   "nbconvert_exporter": "python",
   "pygments_lexer": "ipython3",
   "version": "3.8.3"
  }
 },
 "nbformat": 4,
 "nbformat_minor": 4
}
