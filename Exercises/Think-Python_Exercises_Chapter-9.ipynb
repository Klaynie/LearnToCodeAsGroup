{
 "cells": [
  {
   "cell_type": "markdown",
   "metadata": {},
   "source": [
    "# Exercises - Chapter 9"
   ]
  },
  {
   "cell_type": "markdown",
   "metadata": {},
   "source": [
    "***"
   ]
  },
  {
   "cell_type": "markdown",
   "metadata": {},
   "source": [
    "### Exercise 9.1\n",
    "\n",
    "Write a program that reads `words.txt` and prints only the words with more than 20 characters (not counting whitespace)."
   ]
  },
  {
   "cell_type": "code",
   "execution_count": null,
   "metadata": {},
   "outputs": [],
   "source": [
    "# Write your code here"
   ]
  },
  {
   "cell_type": "markdown",
   "metadata": {},
   "source": [
    "***"
   ]
  },
  {
   "cell_type": "markdown",
   "metadata": {},
   "source": [
    "### Exercise 9.2\n",
    "\n",
    "In 1939 Ernest Vincent Wright published a 50,000 word novel called Gadsby that does not contain the letter \"e\". Since \"e\" is the most common letter in English, that is not easy to do.<br>\n",
    "<br>\n",
    "In fact, it is difficult to construct a solitary thought without using that most common symbol. It is \n",
    "slow going at first, but with caution and hours of training you can gradually gain facility.<br>\n",
    "<br>\n",
    "All right, I will stop now.<br>\n",
    "<br>\n",
    "Write a function called `has_no_e` that returns `True` if the given word does not have the letter \"e\" in\n",
    "it.<br>\n",
    "<br>\n",
    "Write a program that reads `words.txt` and prints only the words that have no \"e\". Compute the percentage of words in the list that have no \"e\"."
   ]
  },
  {
   "cell_type": "code",
   "execution_count": null,
   "metadata": {},
   "outputs": [],
   "source": [
    "# Write your code here"
   ]
  },
  {
   "cell_type": "markdown",
   "metadata": {},
   "source": [
    "***"
   ]
  },
  {
   "cell_type": "markdown",
   "metadata": {},
   "source": [
    "### Exercise 9.3\n",
    "\n",
    "Write a function named `avoids` that takes a word and a string of forbidden letters, and that returns `True` if the word does not use any of the forbidden letters.<br>\n",
    "<br>\n",
    "Write a program that prompts the user to enter a string of forbidden letters and then prints the number of words that do not contain any of them. Can you find a combination of 5 forbidden letters that excludes the smallest number of words?"
   ]
  },
  {
   "cell_type": "code",
   "execution_count": null,
   "metadata": {},
   "outputs": [],
   "source": [
    "# Write your code here"
   ]
  },
  {
   "cell_type": "markdown",
   "metadata": {},
   "source": [
    "***"
   ]
  },
  {
   "cell_type": "markdown",
   "metadata": {},
   "source": [
    "### Exercise 9.4\n",
    "\n",
    "Write a function named `uses_only` that takes a word and a string of letters, and that returns `True` if the word contains only letters in the list. Can you make a sentence using only the letters `acefhlo`? Other than \"Hoe alfalfa\"?"
   ]
  },
  {
   "cell_type": "code",
   "execution_count": null,
   "metadata": {},
   "outputs": [],
   "source": [
    "# Write your code here"
   ]
  },
  {
   "cell_type": "markdown",
   "metadata": {},
   "source": [
    "***"
   ]
  },
  {
   "cell_type": "markdown",
   "metadata": {},
   "source": [
    "### Exercise 9.5\n",
    "Write a function named `uses_all` that takes a word and a string of required letters, and that returns `True` if the word uses all the required letters at least once. How many words are there that use all the vowels `aeiou`? How about `aeiouy`?"
   ]
  },
  {
   "cell_type": "code",
   "execution_count": null,
   "metadata": {},
   "outputs": [],
   "source": [
    "# Write your code here"
   ]
  },
  {
   "cell_type": "markdown",
   "metadata": {},
   "source": [
    "***"
   ]
  },
  {
   "cell_type": "markdown",
   "metadata": {},
   "source": [
    "### Exercise 9.6\n",
    "Write a function called `is_abecedarian` that returns `True` if the letters in a word appear in alphabetical order (double letters are ok). How many abecedarian words are there?"
   ]
  },
  {
   "cell_type": "code",
   "execution_count": null,
   "metadata": {},
   "outputs": [],
   "source": [
    "# Write your code here"
   ]
  },
  {
   "cell_type": "markdown",
   "metadata": {},
   "source": [
    "***"
   ]
  },
  {
   "cell_type": "markdown",
   "metadata": {},
   "source": [
    "## Exercise 9.7\n",
    "This question is based on a Puzzler that was broadcast on the radio program Car Talk (http://www.cartalk.com/content/puzzlers):\n",
    "> Give me a word with three consecutive double letters. I willll give you a couple of words that almost qualify, but do not. For example, the word committee, c-o-m-m-i-t-t-e-e. It would be great except for the 'i' that sneaks in there. Or Mississippi: M-i-s-s-i-s-s-ip-p-i. If you could take out those 'i's it would work. But there is a word that has three\n",
    "consecutive pairs of letters and to the best of my knowledge this may be the only word. Of course there are probably 500 more but I can only think of one. What is the word?\n",
    "\n",
    "Write a program to find it.<br>\n",
    "<br>\n",
    "<i>Solution: http://thinkpython2.com/code/cartalk1.py </i>"
   ]
  },
  {
   "cell_type": "code",
   "execution_count": null,
   "metadata": {},
   "outputs": [],
   "source": [
    "# Write your code here"
   ]
  },
  {
   "cell_type": "markdown",
   "metadata": {},
   "source": [
    "***"
   ]
  },
  {
   "cell_type": "markdown",
   "metadata": {},
   "source": [
    "## Exercise 9.8\n",
    "Here is another Car Talk Puzzler (http://www.cartalk.com/content/puzzlers):\n",
    ">\"I was driving on the highway the other day and I happened to notice my odometer. Like most odometers, it shows six digits, in whole miles only. So, if my car had 300,000 miles, for example, I’d see 3-0-0-0-0-0.<br>\n",
    "\"Now, what I saw that day was very interesting. I noticed that the last 4 digits were palindromic; that is, they read the same forward as backward. For example, 5-4-4-5 is a palindrome, so my odometer could have read 3-1-5-4-4-5.<br>\n",
    "\"One mile later, the last 5 numbers were palindromic. For example, it could have read 3-6-5-4-5-6. One mile after that, the middle 4 out of 6 numbers were palindromic. And you ready for this? One mile later, all 6 were palindromic!<br>\n",
    "\"The question is, what was on the odometer when I first looked?\"\n",
    "\n",
    "Write a Python program that tests all the six-digit numbers and prints any numbers that satisfy\n",
    "these requirements.<br>\n",
    "<br>\n",
    "<i>Solution: http://thinkpython2.com/code/cartalk2.py</i>"
   ]
  },
  {
   "cell_type": "code",
   "execution_count": null,
   "metadata": {},
   "outputs": [],
   "source": [
    "# Write your code here"
   ]
  },
  {
   "cell_type": "markdown",
   "metadata": {},
   "source": [
    "***"
   ]
  },
  {
   "cell_type": "markdown",
   "metadata": {},
   "source": [
    "## Exercise 9.9\n",
    "Here is another Car Talk Puzzler you can solve with a search (http://www.cartalk.com/content/puzzlers):\n",
    ">\"Recently I had a visit with my mom and we realized that the two digits that make up my age when reversed resulted in her age. For example, if she is 73, I am 37. We wondered how often this has happened over the years but we got sidetracked with other topics and we never came up with an answer.<br>\n",
    "\"When I got home I figured out that the digits of our ages have been reversible six times so far. I also figured out that if we are lucky it would happen again in a few years, and if we are really lucky it would happen one more time after that. In other words, it would have happened 8 times over all. So the question is, how old am I now?\"\n",
    "\n",
    "Write a Python program that searches for solutions to this Puzzler. Hint: you might find the string\n",
    "method zfill useful.<br>\n",
    "<i>Solution: http://thinkpython2.com/code/cartalk3.py</i>"
   ]
  },
  {
   "cell_type": "code",
   "execution_count": null,
   "metadata": {},
   "outputs": [],
   "source": [
    "# Write your code here"
   ]
  }
 ],
 "metadata": {
  "kernelspec": {
   "display_name": "Python 3",
   "language": "python",
   "name": "python3"
  },
  "language_info": {
   "codemirror_mode": {
    "name": "ipython",
    "version": 3
   },
   "file_extension": ".py",
   "mimetype": "text/x-python",
   "name": "python",
   "nbconvert_exporter": "python",
   "pygments_lexer": "ipython3",
   "version": "3.8.5"
  }
 },
 "nbformat": 4,
 "nbformat_minor": 4
}
