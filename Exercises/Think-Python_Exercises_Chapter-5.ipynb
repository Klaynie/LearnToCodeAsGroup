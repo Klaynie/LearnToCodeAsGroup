{
 "metadata": {
  "language_info": {
   "codemirror_mode": {
    "name": "ipython",
    "version": 3
   },
   "file_extension": ".py",
   "mimetype": "text/x-python",
   "name": "python",
   "nbconvert_exporter": "python",
   "pygments_lexer": "ipython3",
   "version": 3
  },
  "orig_nbformat": 2,
  "kernelspec": {
   "name": "python_defaultSpec_1595017409743",
   "display_name": "Python 3.8.3 32-bit"
  }
 },
 "nbformat": 4,
 "nbformat_minor": 2,
 "cells": [
  {
   "cell_type": "markdown",
   "metadata": {},
   "source": [
    "# Exercises - Chapter 5"
   ]
  },
  {
   "cell_type": "markdown",
   "metadata": {},
   "source": [
    "## Exercise 5.1\n",
    "\n",
    "The time module provides a function, also named time, that returns the current\n",
    "Greenwich Mean Time in \"the epoch\", which is an arbitrary time used as a reference point. On UNIX systems, the epoch is 1 January 1970.<br>\n",
    "<br>\n",
    "`>>> import time`<br>\n",
    "`>>> time.time()`<br>\n",
    "`1437746094.5735958`<br>\n",
    "<br>\n",
    "Write a script that reads the current time and converts it to a time of day in hours, minutes, and seconds, plus the number of days since the epoch."
   ]
  },
  {
   "cell_type": "code",
   "execution_count": null,
   "metadata": {},
   "outputs": [],
   "source": [
    "# Write your script here"
   ]
  },
  {
   "cell_type": "markdown",
   "metadata": {},
   "source": [
    "***"
   ]
  },
  {
   "cell_type": "markdown",
   "metadata": {},
   "source": [
    "## Exercise 5.2\n",
    "\n",
    "Fermat’s Last Theorem says that there are no positive integers $a$, $b$, and $c$ such that<br>\n",
    "\n",
    "$$\n",
    "a^n + b^n = c^n\n",
    "$$\n",
    "\n",
    "for any values of $n$ greater than $2$.\n",
    "\n",
    "1. Write a function named `check_fermat` that takes four parameters — $a$, $b$, $c$ and $n$ — and <br>\n",
    "\n",
    "$$\n",
    "a^n + b^n = c^n\n",
    "$$\n",
    "\n",
    "the program should print, \"Holy smokes, Fermat was wrong!\" Otherwise the program should print, “No, that doesn’t work.”\n",
    "2. Write a function that prompts the user to input values for $a$, $b$, $c$ and $n$, <i>converts</i> them to integers, and uses check_fermat to check whether they violate Fermat’s theorem."
   ]
  },
  {
   "cell_type": "code",
   "execution_count": null,
   "metadata": {},
   "outputs": [],
   "source": [
    "# Write your code here"
   ]
  },
  {
   "cell_type": "markdown",
   "metadata": {},
   "source": [
    "***"
   ]
  },
  {
   "cell_type": "markdown",
   "metadata": {},
   "source": [
    "## Exercise 5.3.\n",
    "\n",
    "If you are given three sticks, you may or may not be able to arrange them in a triangle.For example, if one of the sticks is 12 inches long and the other two are one inch long, you will not be able to get the short sticks to meet in the middle. For any three lengths, there is a simple test to see if it is possible to form a triangle:<br>\n",
    "If any of the three lengths is greater than the sum of the other two, then you cannot form a triangle. Otherwise, you can. (If the sum of two lengths equals the third, they form what is called a \"degenerate\" triangle.)<br>\n",
    "\n",
    "1. Write a function named `is_triangle` that takes three integers as arguments, and that prints either \"Yes\" or \"No\", depending on whether you can or cannot form a triangle from sticks with the given lengths.\n",
    "2. Write a function that prompts the user to input three stick lengths, converts them to integers, and uses `is_triangle` to check whether sticks with the given lengths can form a triangle"
   ]
  },
  {
   "cell_type": "code",
   "execution_count": null,
   "metadata": {},
   "outputs": [],
   "source": [
    "# Write your code here"
   ]
  },
  {
   "cell_type": "markdown",
   "metadata": {},
   "source": [
    "***"
   ]
  },
  {
   "cell_type": "markdown",
   "metadata": {},
   "source": [
    "## Exercise 5.4.\n",
    "\n",
    "What is the output of the following program? Draw a stack diagram that shows the state of the program when it prints the result."
   ]
  },
  {
   "cell_type": "code",
   "execution_count": null,
   "metadata": {
    "tags": []
   },
   "outputs": [],
   "source": [
    "def recurse(n, s):\n",
    "    if n == 0:\n",
    "        print(s)\n",
    "    else:\n",
    "        recurse(n-1, n+s)\n",
    "\n",
    "recurse(3, 0)\n"
   ]
  },
  {
   "cell_type": "markdown",
   "metadata": {},
   "source": [
    "1. What would happen if you called this function like this: recurse(-1, 0)?\n",
    "2. Write a docstring that explains everything someone would need to know in order to use this function (and nothing else)."
   ]
  },
  {
   "cell_type": "code",
   "execution_count": null,
   "metadata": {},
   "outputs": [],
   "source": [
    "# Check what happens for recurse(-1, 0) here"
   ]
  },
  {
   "cell_type": "markdown",
   "metadata": {},
   "source": [
    "***"
   ]
  },
  {
   "cell_type": "markdown",
   "metadata": {},
   "source": [
    "## Exercise 5.5.\n",
    "\n",
    "Read the following function and see if you can figure out what it does (see the examples in Chapter 4). Then run it and see if you got it right"
   ]
  },
  {
   "cell_type": "code",
   "execution_count": null,
   "metadata": {},
   "outputs": [],
   "source": [
    "def draw(t, length, n):\n",
    "    if n == 0:\n",
    "        return\n",
    "    angle = 50\n",
    "    t.forward(length*n)\n",
    "    t.left(angle)\n",
    "    draw(t, length, n-1)\n",
    "    t.right(2*angle)\n",
    "    draw(t, length, n-1)\n",
    "    t.left(angle)\n",
    "    t.backward(length*n)"
   ]
  },
  {
   "cell_type": "code",
   "execution_count": null,
   "metadata": {},
   "outputs": [],
   "source": [
    "# Call the function here"
   ]
  },
  {
   "cell_type": "markdown",
   "metadata": {},
   "source": [
    "***"
   ]
  },
  {
   "cell_type": "markdown",
   "metadata": {},
   "source": [
    "## Exercise 5.6.\n",
    "\n",
    "The Koch curve is a fractal that looks something like the figure shown below. To draw a Koch curve with length $x$, all you have to do is<br>\n",
    "\n",
    "1. Draw a Koch curve with length $\\frac{x}{3}$.\n",
    "2. Turn left 60 degrees.\n",
    "3. Draw a Koch curve with  $\\frac{x}{3}$.\n",
    "4. Turn right 120 degrees.\n",
    "5. Draw a Koch curve with  $\\frac{x}{3}$.\n",
    "6. Turn left 60 degrees.\n",
    "7. Draw a Koch curve with  $\\frac{x}{3}$.\n",
    "\n",
    "The exception is if $x$ is less than $3$: in that case, you can just draw a straight line with length $x$.<br>\n",
    "\n",
    "![Koch-Snowflake](https://i.imgur.com/YU3zimi.png)\n",
    "\n",
    "1. Write a function called `koch` that takes a turtle and a length as parameters, and that uses the turtle to draw a Koch curve with the given length.\n",
    "2. Write a function called `snowflake` that draws three Koch curves to make the outline of a snowflake.\n",
    "Solution: http://thinkpython2.com/code/koch.py\n",
    "3. The Koch curve can be generalized in several ways. See http://en.wikipedia.org/wiki/Koch_snowflake for examples and implement your favorite."
   ]
  },
  {
   "cell_type": "code",
   "execution_count": null,
   "metadata": {},
   "outputs": [],
   "source": [
    "# Write your functions here"
   ]
  }
 ]
}