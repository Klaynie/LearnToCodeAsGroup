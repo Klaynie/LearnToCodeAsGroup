{
 "cells": [
  {
   "cell_type": "markdown",
   "metadata": {},
   "source": [
    "# Chapter 9 - Case study: word play\n",
    "\n",
    "This chapter will focus on working with strings."
   ]
  },
  {
   "cell_type": "markdown",
   "metadata": {},
   "source": [
    "***"
   ]
  },
  {
   "cell_type": "markdown",
   "metadata": {},
   "source": [
    "## Reading word lists\n",
    "\n",
    "In this exercise we will load data from a file. The file was downloaded from http://thinkpython2.com/code/words.txt and added to the folder. The file is a plain text file, you can open it with a text editor as well as import it into Python with the built-in function `open`. The function takes the name of the file as a parameter and returns a <b>file object</b>."
   ]
  },
  {
   "cell_type": "code",
   "execution_count": null,
   "metadata": {},
   "outputs": [],
   "source": [
    "fin = open('words.txt')"
   ]
  },
  {
   "cell_type": "markdown",
   "metadata": {},
   "source": [
    "`fin` is a common name for a file object used for input. The file object provides serveral methods for reading. One of them is `readline`, which reads characters from the file until it gets to a newline and returns the result as a string:"
   ]
  }
 ],
 "metadata": {
  "kernelspec": {
   "display_name": "Python 3",
   "language": "python",
   "name": "python3"
  },
  "language_info": {
   "codemirror_mode": {
    "name": "ipython",
    "version": 3
   },
   "file_extension": ".py",
   "mimetype": "text/x-python",
   "name": "python",
   "nbconvert_exporter": "python",
   "pygments_lexer": "ipython3",
   "version": "3.8.5"
  }
 },
 "nbformat": 4,
 "nbformat_minor": 4
}
